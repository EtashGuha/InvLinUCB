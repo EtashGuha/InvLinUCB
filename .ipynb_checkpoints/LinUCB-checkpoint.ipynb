{
 "cells": [
  {
   "cell_type": "code",
   "execution_count": 120,
   "id": "a7396b2c",
   "metadata": {},
   "outputs": [],
   "source": [
    "import numpy as np\n",
    "import math\n",
    "from tqdm import tqdm\n",
    "import random\n",
    "import matplotlib.pyplot as plt"
   ]
  },
  {
   "cell_type": "code",
   "execution_count": 156,
   "id": "43de4f62",
   "metadata": {},
   "outputs": [],
   "source": [
    "class LinUCB():\n",
    "    def __init__(self, arm, dim=2, lamda = 1, T=1000):\n",
    "        self.arm = arm\n",
    "        self.A_t = 0\n",
    "        self.y = np.zeros((dim, 1))\n",
    "        self.V = lamda * np.identity(dim)\n",
    "        self.beta =  1 + np.sqrt(2*np.log(T)+dim*np.log((dim+T)/dim))\n",
    "        self.actions = []\n",
    "    def observe_reward(self, reward):\n",
    "        \n",
    "        self.V = self.V + self.arm[self.A_t].T * self.arm[self.A_t]\n",
    "        self.y = self.y + self.arm[self.A_t].T * reward\n",
    "        \n",
    "        \n",
    "    def compute(self):\n",
    "        # estimate theta \n",
    "        inv_V = np.linalg.inv(self.V)\n",
    "        self.hat_theta = inv_V * self.y\n",
    "        # compute ucb\n",
    "        breakpoint()\n",
    "        ucb = self.arm * self.hat_theta + self.beta * np.matrix(np.diag(np.sqrt( self.arm * inv_V * self.arm.T ))).T\n",
    "        self.A_t = np.argmax(ucb)\n",
    "        self.actions.append(self.arm[self.A_t])\n",
    "        return self.arm[self.A_t]"
   ]
  },
  {
   "cell_type": "code",
   "execution_count": 72,
   "id": "167d6316",
   "metadata": {},
   "outputs": [],
   "source": [
    "class UCB:\n",
    "    def __init__(self, action_set, dim=2,T=1000):\n",
    "        self.action_set = action_set\n",
    "        self.T = T\n",
    "        self.alpha = 1/(T*T)\n",
    "        self.sample_means = np.asarray([0.0] * dim)\n",
    "        self.confidence_widths = np.asarray([np.inf] * dim)\n",
    "        self.num_pulls = np.asarray([0] * dim)\n",
    "        self.actions = []\n",
    "        self.action_idxs = []\n",
    "        \n",
    "    def compute(self):\n",
    "        index = np.argmax(self.sample_means + self.confidence_widths)\n",
    "        self.num_pulls[index] += 1\n",
    "        self.action_idxs.append(index)\n",
    "        self.actions.append(self.action_set[index])\n",
    "        return self.action_set[index]\n",
    "    \n",
    "    def observe_reward(self, reward):\n",
    "        cur_mean = self.sample_means[self.action_idxs[-1]]\n",
    "        num_samples = self.num_pulls[self.action_idxs[-1]] - 1\n",
    "        new_mean = (cur_mean * num_samples + reward)/(num_samples + 1)\n",
    "        self.sample_means[self.action_idxs[-1]] = new_mean[0]\n",
    "        self.confidence_widths = np.sqrt(2*(math.pow(self.T, self.alpha) - 1)/(self.alpha * self.num_pulls))\n",
    "        \n",
    "                        \n",
    "        \n",
    "        \n",
    "         "
   ]
  },
  {
   "cell_type": "code",
   "execution_count": 73,
   "id": "9fa123fb",
   "metadata": {},
   "outputs": [],
   "source": [
    "def calc_pseudoregret(theta, actions):\n",
    "    diff = theta - np.max(theta)\n",
    "    new_actions = np.stack(actions, axis=0)\n",
    "    return -np.sum(np.dot(new_actions, theta))"
   ]
  },
  {
   "cell_type": "code",
   "execution_count": 111,
   "id": "c91a9931",
   "metadata": {},
   "outputs": [],
   "source": [
    "class Oracle:\n",
    "    def __init__(self, theta):\n",
    "        self.theta = theta\n",
    "        \n",
    "    def compute_reward(self, action):\n",
    "        rewards = np.inner(action, self.theta) + np.random.normal(0, 1, 1)\n",
    "        \n",
    "        return np.expand_dims(np.expand_dims(rewards, axis=1), axis=1)\n"
   ]
  },
  {
   "cell_type": "code",
   "execution_count": 147,
   "id": "ea3c0759",
   "metadata": {},
   "outputs": [],
   "source": [
    "def train_alg(alg, T, theta, oracle):\n",
    "    alg.actions = [0]\n",
    "    reward = oracle.compute_reward(alg.arm[0])\n",
    "    alg.observe_reward(reward[0])\n",
    "    for time in range(T):\n",
    "        action = alg.compute()\n",
    "        reward = oracle.compute_reward(action)\n",
    "        alg.observe_reward(reward)"
   ]
  },
  {
   "cell_type": "code",
   "execution_count": 138,
   "id": "8cca28b2",
   "metadata": {},
   "outputs": [
    {
     "name": "stderr",
     "output_type": "stream",
     "text": [
      "  0%|                                                   | 0/100 [00:00<?, ?it/s]\n"
     ]
    },
    {
     "ename": "IndexError",
     "evalue": "index 2 is out of bounds for axis 0 with size 2",
     "output_type": "error",
     "traceback": [
      "\u001b[0;31m---------------------------------------------------------------------------\u001b[0m",
      "\u001b[0;31mIndexError\u001b[0m                                Traceback (most recent call last)",
      "\u001b[0;32m/var/folders/j0/12_hmkfx6bx04_ymlhscx4t80000gp/T/ipykernel_67521/3105673345.py\u001b[0m in \u001b[0;36m<module>\u001b[0;34m\u001b[0m\n\u001b[1;32m     12\u001b[0m     \u001b[0;32mfor\u001b[0m \u001b[0mepoch\u001b[0m \u001b[0;32min\u001b[0m \u001b[0mtqdm\u001b[0m\u001b[0;34m(\u001b[0m\u001b[0mrange\u001b[0m\u001b[0;34m(\u001b[0m\u001b[0;36m100\u001b[0m\u001b[0;34m)\u001b[0m\u001b[0;34m)\u001b[0m\u001b[0;34m:\u001b[0m\u001b[0;34m\u001b[0m\u001b[0;34m\u001b[0m\u001b[0m\n\u001b[1;32m     13\u001b[0m         \u001b[0malg\u001b[0m \u001b[0;34m=\u001b[0m \u001b[0mLinUCB\u001b[0m\u001b[0;34m(\u001b[0m\u001b[0maction_set\u001b[0m\u001b[0;34m)\u001b[0m\u001b[0;34m\u001b[0m\u001b[0;34m\u001b[0m\u001b[0m\n\u001b[0;32m---> 14\u001b[0;31m         \u001b[0mdelta_regrets\u001b[0m\u001b[0;34m.\u001b[0m\u001b[0mappend\u001b[0m\u001b[0;34m(\u001b[0m\u001b[0mtrain_alg\u001b[0m\u001b[0;34m(\u001b[0m\u001b[0malg\u001b[0m\u001b[0;34m,\u001b[0m \u001b[0mT\u001b[0m\u001b[0;34m,\u001b[0m \u001b[0mtheta\u001b[0m\u001b[0;34m,\u001b[0m \u001b[0moracle\u001b[0m\u001b[0;34m)\u001b[0m\u001b[0;34m)\u001b[0m\u001b[0;34m\u001b[0m\u001b[0;34m\u001b[0m\u001b[0m\n\u001b[0m\u001b[1;32m     15\u001b[0m     \u001b[0mall_regrets\u001b[0m\u001b[0;34m.\u001b[0m\u001b[0mappend\u001b[0m\u001b[0;34m(\u001b[0m\u001b[0mnp\u001b[0m\u001b[0;34m.\u001b[0m\u001b[0mmean\u001b[0m\u001b[0;34m(\u001b[0m\u001b[0mdelta_regrets\u001b[0m\u001b[0;34m)\u001b[0m\u001b[0;34m)\u001b[0m\u001b[0;34m\u001b[0m\u001b[0;34m\u001b[0m\u001b[0m\n",
      "\u001b[0;32m/var/folders/j0/12_hmkfx6bx04_ymlhscx4t80000gp/T/ipykernel_67521/2838215243.py\u001b[0m in \u001b[0;36mtrain_alg\u001b[0;34m(alg, T, theta, oracle)\u001b[0m\n\u001b[1;32m      7\u001b[0m \u001b[0;34m\u001b[0m\u001b[0m\n\u001b[1;32m      8\u001b[0m \u001b[0;31m#         print(\"TIME STEP: {}\".format(T))\u001b[0m\u001b[0;34m\u001b[0m\u001b[0;34m\u001b[0m\u001b[0;34m\u001b[0m\u001b[0m\n\u001b[0;32m----> 9\u001b[0;31m         \u001b[0maction\u001b[0m \u001b[0;34m=\u001b[0m \u001b[0malg\u001b[0m\u001b[0;34m.\u001b[0m\u001b[0mcompute\u001b[0m\u001b[0;34m(\u001b[0m\u001b[0;34m)\u001b[0m\u001b[0;34m\u001b[0m\u001b[0;34m\u001b[0m\u001b[0m\n\u001b[0m\u001b[1;32m     10\u001b[0m \u001b[0;31m#         print(\"     action chosen: {}\".format(action))\u001b[0m\u001b[0;34m\u001b[0m\u001b[0;34m\u001b[0m\u001b[0;34m\u001b[0m\u001b[0m\n\u001b[1;32m     11\u001b[0m \u001b[0;31m#         print(\"     theta_t: {}\".format(alg.theta_t))\u001b[0m\u001b[0;34m\u001b[0m\u001b[0;34m\u001b[0m\u001b[0;34m\u001b[0m\u001b[0m\n",
      "\u001b[0;32m/var/folders/j0/12_hmkfx6bx04_ymlhscx4t80000gp/T/ipykernel_67521/3963982439.py\u001b[0m in \u001b[0;36mcompute\u001b[0;34m(self)\u001b[0m\n\u001b[1;32m     21\u001b[0m         \u001b[0mucb\u001b[0m \u001b[0;34m=\u001b[0m \u001b[0mself\u001b[0m\u001b[0;34m.\u001b[0m\u001b[0marm\u001b[0m \u001b[0;34m*\u001b[0m \u001b[0mself\u001b[0m\u001b[0;34m.\u001b[0m\u001b[0mhat_theta\u001b[0m \u001b[0;34m+\u001b[0m \u001b[0mself\u001b[0m\u001b[0;34m.\u001b[0m\u001b[0mbeta\u001b[0m \u001b[0;34m*\u001b[0m \u001b[0mnp\u001b[0m\u001b[0;34m.\u001b[0m\u001b[0mmatrix\u001b[0m\u001b[0;34m(\u001b[0m\u001b[0mnp\u001b[0m\u001b[0;34m.\u001b[0m\u001b[0mdiag\u001b[0m\u001b[0;34m(\u001b[0m\u001b[0mnp\u001b[0m\u001b[0;34m.\u001b[0m\u001b[0msqrt\u001b[0m\u001b[0;34m(\u001b[0m \u001b[0mself\u001b[0m\u001b[0;34m.\u001b[0m\u001b[0marm\u001b[0m \u001b[0;34m*\u001b[0m \u001b[0minv_V\u001b[0m \u001b[0;34m*\u001b[0m \u001b[0mself\u001b[0m\u001b[0;34m.\u001b[0m\u001b[0marm\u001b[0m\u001b[0;34m.\u001b[0m\u001b[0mT\u001b[0m \u001b[0;34m)\u001b[0m\u001b[0;34m)\u001b[0m\u001b[0;34m)\u001b[0m\u001b[0;34m.\u001b[0m\u001b[0mT\u001b[0m\u001b[0;34m\u001b[0m\u001b[0;34m\u001b[0m\u001b[0m\n\u001b[1;32m     22\u001b[0m         \u001b[0mself\u001b[0m\u001b[0;34m.\u001b[0m\u001b[0mA_t\u001b[0m \u001b[0;34m=\u001b[0m \u001b[0mnp\u001b[0m\u001b[0;34m.\u001b[0m\u001b[0margmax\u001b[0m\u001b[0;34m(\u001b[0m\u001b[0mucb\u001b[0m\u001b[0;34m)\u001b[0m\u001b[0;34m\u001b[0m\u001b[0;34m\u001b[0m\u001b[0m\n\u001b[0;32m---> 23\u001b[0;31m         \u001b[0;32mreturn\u001b[0m \u001b[0mself\u001b[0m\u001b[0;34m.\u001b[0m\u001b[0marm\u001b[0m\u001b[0;34m[\u001b[0m\u001b[0mself\u001b[0m\u001b[0;34m.\u001b[0m\u001b[0mA_t\u001b[0m\u001b[0;34m]\u001b[0m\u001b[0;34m\u001b[0m\u001b[0;34m\u001b[0m\u001b[0m\n\u001b[0m",
      "\u001b[0;31mIndexError\u001b[0m: index 2 is out of bounds for axis 0 with size 2"
     ]
    }
   ],
   "source": [
    "delta = .5\n",
    "T = 1000\n",
    "dim = 2\n",
    "lamb = 1\n",
    "theta = np.asarray([0, -delta])\n",
    "oracle = Oracle(theta)\n",
    "action_set = np.asarray([np.eye(1,dim,index).squeeze() for index in range(dim)])\n",
    "all_regrets = []\n",
    "for delta in np.linspace(0, 1, num=20):\n",
    "    delta_regrets = []\n",
    "    theta = np.asarray([0, -delta])\n",
    "    for epoch in tqdm(range(100)):\n",
    "        alg = LinUCB(action_set)\n",
    "        delta_regrets.append(train_alg(alg, T, theta, oracle))\n",
    "    all_regrets.append(np.mean(delta_regrets))\n"
   ]
  },
  {
   "cell_type": "code",
   "execution_count": 14,
   "id": "88d59ad0",
   "metadata": {},
   "outputs": [
    {
     "data": {
      "text/plain": [
       "[<matplotlib.lines.Line2D at 0x7f93ab96cd90>]"
      ]
     },
     "execution_count": 14,
     "metadata": {},
     "output_type": "execute_result"
    },
    {
     "data": {
      "image/png": "[encoded data removed]",
      "text/plain": [
       "<Figure size 432x288 with 1 Axes>"
      ]
     },
     "metadata": {
      "needs_background": "light"
     },
     "output_type": "display_data"
    }
   ],
   "source": [
    "plt.plot(np.linspace(0, 1, num=20), all_regrets)"
   ]
  },
  {
   "cell_type": "code",
   "execution_count": 639,
   "id": "9c94379c",
   "metadata": {},
   "outputs": [
    {
     "name": "stderr",
     "output_type": "stream",
     "text": [
      "  0%|                                                   | 0/100 [00:00<?, ?it/s]/var/folders/j0/12_hmkfx6bx04_ymlhscx4t80000gp/T/ipykernel_15424/3338656.py:24: RuntimeWarning: divide by zero encountered in true_divide\n",
      "  self.confidence_widths = np.sqrt(2*(math.pow(self.T, self.alpha) - 1)/(self.alpha * self.num_pulls))\n",
      "100%|█████████████████████████████████████████| 100/100 [00:01<00:00, 52.36it/s]\n",
      "100%|█████████████████████████████████████████| 100/100 [00:01<00:00, 52.41it/s]\n",
      "100%|█████████████████████████████████████████| 100/100 [00:01<00:00, 52.48it/s]\n",
      "100%|█████████████████████████████████████████| 100/100 [00:01<00:00, 53.64it/s]\n",
      "100%|█████████████████████████████████████████| 100/100 [00:02<00:00, 44.32it/s]\n",
      "100%|█████████████████████████████████████████| 100/100 [00:02<00:00, 38.95it/s]\n",
      "100%|█████████████████████████████████████████| 100/100 [00:02<00:00, 44.78it/s]\n",
      "100%|█████████████████████████████████████████| 100/100 [00:01<00:00, 50.96it/s]\n",
      "100%|█████████████████████████████████████████| 100/100 [00:01<00:00, 50.62it/s]\n",
      "100%|█████████████████████████████████████████| 100/100 [00:01<00:00, 51.98it/s]\n",
      "100%|█████████████████████████████████████████| 100/100 [00:01<00:00, 51.28it/s]\n",
      "100%|█████████████████████████████████████████| 100/100 [00:01<00:00, 52.45it/s]\n",
      "100%|█████████████████████████████████████████| 100/100 [00:01<00:00, 51.96it/s]\n",
      "100%|█████████████████████████████████████████| 100/100 [00:01<00:00, 51.45it/s]\n",
      "100%|█████████████████████████████████████████| 100/100 [00:01<00:00, 51.69it/s]\n",
      "100%|█████████████████████████████████████████| 100/100 [00:01<00:00, 50.95it/s]\n",
      "100%|█████████████████████████████████████████| 100/100 [00:01<00:00, 51.32it/s]\n",
      "100%|█████████████████████████████████████████| 100/100 [00:01<00:00, 51.37it/s]\n",
      "100%|█████████████████████████████████████████| 100/100 [00:01<00:00, 52.17it/s]\n",
      "100%|█████████████████████████████████████████| 100/100 [00:01<00:00, 50.99it/s]\n"
     ]
    }
   ],
   "source": [
    "delta = .5\n",
    "T = 1000\n",
    "dim = 2\n",
    "lamb = 1\n",
    "theta = np.asarray([0, -delta])\n",
    "oracle = Oracle(theta)\n",
    "alg = LinUCB()\n",
    "action_set = \n",
    "ucb_all_regrets = []\n",
    "for delta in np.linspace(0, 1, num=20):\n",
    "    delta_regrets = []\n",
    "    theta = np.asarray([0, -delta])\n",
    "    for epoch in tqdm(range(100)):\n",
    "        alg = UCB()\n",
    "        delta_regrets.append(train_alg(alg, T, theta))\n",
    "    ucb_all_regrets.append(np.mean(delta_regrets))"
   ]
  },
  {
   "cell_type": "code",
   "execution_count": 13,
   "id": "d5b4d67c",
   "metadata": {},
   "outputs": [
    {
     "ename": "NameError",
     "evalue": "name 'ucb_all_regrets' is not defined",
     "output_type": "error",
     "traceback": [
      "\u001b[0;31m---------------------------------------------------------------------------\u001b[0m",
      "\u001b[0;31mNameError\u001b[0m                                 Traceback (most recent call last)",
      "\u001b[0;32m/var/folders/j0/12_hmkfx6bx04_ymlhscx4t80000gp/T/ipykernel_47161/827794842.py\u001b[0m in \u001b[0;36m<module>\u001b[0;34m\u001b[0m\n\u001b[1;32m      1\u001b[0m \u001b[0mplt\u001b[0m\u001b[0;34m.\u001b[0m\u001b[0mplot\u001b[0m\u001b[0;34m(\u001b[0m\u001b[0mnp\u001b[0m\u001b[0;34m.\u001b[0m\u001b[0mlinspace\u001b[0m\u001b[0;34m(\u001b[0m\u001b[0;36m0\u001b[0m\u001b[0;34m,\u001b[0m \u001b[0;36m1\u001b[0m\u001b[0;34m,\u001b[0m \u001b[0mnum\u001b[0m\u001b[0;34m=\u001b[0m\u001b[0;36m20\u001b[0m\u001b[0;34m)\u001b[0m\u001b[0;34m,\u001b[0m \u001b[0mall_regrets\u001b[0m\u001b[0;34m,\u001b[0m \u001b[0mlabel\u001b[0m\u001b[0;34m=\u001b[0m\u001b[0;34m\"linucb\"\u001b[0m\u001b[0;34m)\u001b[0m\u001b[0;34m\u001b[0m\u001b[0;34m\u001b[0m\u001b[0m\n\u001b[0;32m----> 2\u001b[0;31m \u001b[0mplt\u001b[0m\u001b[0;34m.\u001b[0m\u001b[0mplot\u001b[0m\u001b[0;34m(\u001b[0m\u001b[0mnp\u001b[0m\u001b[0;34m.\u001b[0m\u001b[0mlinspace\u001b[0m\u001b[0;34m(\u001b[0m\u001b[0;36m0\u001b[0m\u001b[0;34m,\u001b[0m \u001b[0;36m1\u001b[0m\u001b[0;34m,\u001b[0m \u001b[0mnum\u001b[0m\u001b[0;34m=\u001b[0m\u001b[0;36m20\u001b[0m\u001b[0;34m)\u001b[0m\u001b[0;34m,\u001b[0m \u001b[0mucb_all_regrets\u001b[0m\u001b[0;34m,\u001b[0m \u001b[0mlabel\u001b[0m\u001b[0;34m=\u001b[0m\u001b[0;34m\"ucb\"\u001b[0m\u001b[0;34m)\u001b[0m\u001b[0;34m\u001b[0m\u001b[0;34m\u001b[0m\u001b[0m\n\u001b[0m\u001b[1;32m      3\u001b[0m \u001b[0mplt\u001b[0m\u001b[0;34m.\u001b[0m\u001b[0mshow\u001b[0m\u001b[0;34m(\u001b[0m\u001b[0;34m)\u001b[0m\u001b[0;34m\u001b[0m\u001b[0;34m\u001b[0m\u001b[0m\n",
      "\u001b[0;31mNameError\u001b[0m: name 'ucb_all_regrets' is not defined"
     ]
    },
    {
     "data": {
      "image/png": "[encoded data removed]",
      "text/plain": [
       "<Figure size 432x288 with 1 Axes>"
      ]
     },
     "metadata": {
      "needs_background": "light"
     },
     "output_type": "display_data"
    }
   ],
   "source": [
    "plt.plot(np.linspace(0, 1, num=20), all_regrets, label=\"linucb\")\n",
    "plt.plot(np.linspace(0, 1, num=20), ucb_all_regrets, label=\"ucb\")\n",
    "plt.show()"
   ]
  },
  {
   "cell_type": "code",
   "execution_count": 8,
   "id": "318ef4ff",
   "metadata": {},
   "outputs": [],
   "source": [
    "def generate_k_dim_vector(dim=2):\n",
    "    full_index = random.randint(0,dim-1)\n",
    "    vec = np.random.random(int(dim)) * 2 - 1\n",
    "    vec[full_index] = np.sign(vec[full_index]) * 1\n",
    "    return vec"
   ]
  },
  {
   "cell_type": "code",
   "execution_count": 26,
   "id": "e1f4c997",
   "metadata": {},
   "outputs": [
    {
     "name": "stderr",
     "output_type": "stream",
     "text": [
      "  0%|                                                   | 0/100 [00:00<?, ?it/s]/var/folders/j0/12_hmkfx6bx04_ymlhscx4t80000gp/T/ipykernel_47161/1540945954.py:24: RuntimeWarning: divide by zero encountered in true_divide\n",
      "  self.confidence_widths = np.sqrt(2*(math.pow(self.T, self.alpha) - 1)/(self.alpha * self.num_pulls))\n",
      "  2%|▊                                          | 2/100 [00:03<02:27,  1.51s/it]\n"
     ]
    },
    {
     "ename": "KeyboardInterrupt",
     "evalue": "",
     "output_type": "error",
     "traceback": [
      "\u001b[0;31m---------------------------------------------------------------------------\u001b[0m",
      "\u001b[0;31mKeyboardInterrupt\u001b[0m                         Traceback (most recent call last)",
      "\u001b[0;32m/var/folders/j0/12_hmkfx6bx04_ymlhscx4t80000gp/T/ipykernel_47161/545813588.py\u001b[0m in \u001b[0;36m<module>\u001b[0;34m\u001b[0m\n\u001b[1;32m     15\u001b[0m         \u001b[0mlinucb_alg\u001b[0m \u001b[0;34m=\u001b[0m \u001b[0mLinUCB\u001b[0m\u001b[0;34m(\u001b[0m\u001b[0maction_set\u001b[0m\u001b[0;34m,\u001b[0m \u001b[0mdim\u001b[0m\u001b[0;34m=\u001b[0m\u001b[0mdim\u001b[0m\u001b[0;34m,\u001b[0m \u001b[0mT\u001b[0m\u001b[0;34m=\u001b[0m\u001b[0mT\u001b[0m\u001b[0;34m)\u001b[0m\u001b[0;34m\u001b[0m\u001b[0;34m\u001b[0m\u001b[0m\n\u001b[1;32m     16\u001b[0m         \u001b[0mu_sub_regrets\u001b[0m\u001b[0;34m.\u001b[0m\u001b[0mappend\u001b[0m\u001b[0;34m(\u001b[0m\u001b[0mtrain_alg\u001b[0m\u001b[0;34m(\u001b[0m\u001b[0mucb_alg\u001b[0m\u001b[0;34m,\u001b[0m \u001b[0mT\u001b[0m\u001b[0;34m,\u001b[0m \u001b[0mtheta\u001b[0m\u001b[0;34m)\u001b[0m\u001b[0;34m)\u001b[0m\u001b[0;34m\u001b[0m\u001b[0;34m\u001b[0m\u001b[0m\n\u001b[0;32m---> 17\u001b[0;31m         \u001b[0mlu_sub_regrets\u001b[0m\u001b[0;34m.\u001b[0m\u001b[0mappend\u001b[0m\u001b[0;34m(\u001b[0m\u001b[0mtrain_alg\u001b[0m\u001b[0;34m(\u001b[0m\u001b[0mlinucb_alg\u001b[0m\u001b[0;34m,\u001b[0m \u001b[0mT\u001b[0m\u001b[0;34m,\u001b[0m \u001b[0mtheta\u001b[0m\u001b[0;34m)\u001b[0m\u001b[0;34m)\u001b[0m\u001b[0;34m\u001b[0m\u001b[0;34m\u001b[0m\u001b[0m\n\u001b[0m\u001b[1;32m     18\u001b[0m     \u001b[0mucb_all_regrets\u001b[0m\u001b[0;34m.\u001b[0m\u001b[0mappend\u001b[0m\u001b[0;34m(\u001b[0m\u001b[0mnp\u001b[0m\u001b[0;34m.\u001b[0m\u001b[0mmean\u001b[0m\u001b[0;34m(\u001b[0m\u001b[0mu_sub_regrets\u001b[0m\u001b[0;34m)\u001b[0m\u001b[0;34m)\u001b[0m\u001b[0;34m\u001b[0m\u001b[0;34m\u001b[0m\u001b[0m\n\u001b[1;32m     19\u001b[0m     \u001b[0mlinucb_all_regrets\u001b[0m\u001b[0;34m.\u001b[0m\u001b[0mappend\u001b[0m\u001b[0;34m(\u001b[0m\u001b[0mnp\u001b[0m\u001b[0;34m.\u001b[0m\u001b[0mmean\u001b[0m\u001b[0;34m(\u001b[0m\u001b[0mlu_sub_regrets\u001b[0m\u001b[0;34m)\u001b[0m\u001b[0;34m)\u001b[0m\u001b[0;34m\u001b[0m\u001b[0;34m\u001b[0m\u001b[0m\n",
      "\u001b[0;32m/var/folders/j0/12_hmkfx6bx04_ymlhscx4t80000gp/T/ipykernel_47161/2591093263.py\u001b[0m in \u001b[0;36mtrain_alg\u001b[0;34m(alg, T, theta)\u001b[0m\n\u001b[1;32m      3\u001b[0m         \u001b[0maction\u001b[0m \u001b[0;34m=\u001b[0m \u001b[0malg\u001b[0m\u001b[0;34m.\u001b[0m\u001b[0mcompute\u001b[0m\u001b[0;34m(\u001b[0m\u001b[0;34m)\u001b[0m\u001b[0;34m\u001b[0m\u001b[0;34m\u001b[0m\u001b[0m\n\u001b[1;32m      4\u001b[0m         \u001b[0mreward\u001b[0m \u001b[0;34m=\u001b[0m \u001b[0moracle\u001b[0m\u001b[0;34m.\u001b[0m\u001b[0mcompute_reward\u001b[0m\u001b[0;34m(\u001b[0m\u001b[0maction\u001b[0m\u001b[0;34m)\u001b[0m\u001b[0;34m\u001b[0m\u001b[0;34m\u001b[0m\u001b[0m\n\u001b[0;32m----> 5\u001b[0;31m         \u001b[0malg\u001b[0m\u001b[0;34m.\u001b[0m\u001b[0mobserve_reward\u001b[0m\u001b[0;34m(\u001b[0m\u001b[0mreward\u001b[0m\u001b[0;34m)\u001b[0m\u001b[0;34m\u001b[0m\u001b[0;34m\u001b[0m\u001b[0m\n\u001b[0m\u001b[1;32m      6\u001b[0m     \u001b[0;32mreturn\u001b[0m \u001b[0mcalc_pseudoregret\u001b[0m\u001b[0;34m(\u001b[0m\u001b[0mtheta\u001b[0m\u001b[0;34m,\u001b[0m \u001b[0malg\u001b[0m\u001b[0;34m.\u001b[0m\u001b[0mactions\u001b[0m\u001b[0;34m)\u001b[0m\u001b[0;34m\u001b[0m\u001b[0;34m\u001b[0m\u001b[0m\n",
      "\u001b[0;32m/var/folders/j0/12_hmkfx6bx04_ymlhscx4t80000gp/T/ipykernel_47161/905940947.py\u001b[0m in \u001b[0;36mobserve_reward\u001b[0;34m(self, reward)\u001b[0m\n\u001b[1;32m     25\u001b[0m \u001b[0;34m\u001b[0m\u001b[0m\n\u001b[1;32m     26\u001b[0m         \u001b[0mself\u001b[0m\u001b[0;34m.\u001b[0m\u001b[0mrewards\u001b[0m\u001b[0;34m.\u001b[0m\u001b[0mappend\u001b[0m\u001b[0;34m(\u001b[0m\u001b[0mreward\u001b[0m\u001b[0;34m)\u001b[0m\u001b[0;34m\u001b[0m\u001b[0;34m\u001b[0m\u001b[0m\n\u001b[0;32m---> 27\u001b[0;31m         \u001b[0mrewards_arr\u001b[0m \u001b[0;34m=\u001b[0m \u001b[0mnp\u001b[0m\u001b[0;34m.\u001b[0m\u001b[0mexpand_dims\u001b[0m\u001b[0;34m(\u001b[0m\u001b[0mnp\u001b[0m\u001b[0;34m.\u001b[0m\u001b[0masarray\u001b[0m\u001b[0;34m(\u001b[0m\u001b[0mself\u001b[0m\u001b[0;34m.\u001b[0m\u001b[0mrewards\u001b[0m\u001b[0;34m)\u001b[0m\u001b[0;34m.\u001b[0m\u001b[0mT\u001b[0m\u001b[0;34m,\u001b[0m \u001b[0maxis\u001b[0m\u001b[0;34m=\u001b[0m\u001b[0;36m0\u001b[0m\u001b[0;34m)\u001b[0m\u001b[0;34m\u001b[0m\u001b[0;34m\u001b[0m\u001b[0m\n\u001b[0m\u001b[1;32m     28\u001b[0m         \u001b[0mactions_arr\u001b[0m \u001b[0;34m=\u001b[0m \u001b[0mnp\u001b[0m\u001b[0;34m.\u001b[0m\u001b[0masarray\u001b[0m\u001b[0;34m(\u001b[0m\u001b[0mself\u001b[0m\u001b[0;34m.\u001b[0m\u001b[0mactions\u001b[0m\u001b[0;34m)\u001b[0m\u001b[0;34m\u001b[0m\u001b[0;34m\u001b[0m\u001b[0m\n\u001b[1;32m     29\u001b[0m \u001b[0;34m\u001b[0m\u001b[0m\n",
      "\u001b[0;32m~/opt/anaconda3/envs/Work/lib/python3.8/site-packages/numpy/core/_asarray.py\u001b[0m in \u001b[0;36masarray\u001b[0;34m(a, dtype, order, like)\u001b[0m\n\u001b[1;32m    100\u001b[0m         \u001b[0;32mreturn\u001b[0m \u001b[0m_asarray_with_like\u001b[0m\u001b[0;34m(\u001b[0m\u001b[0ma\u001b[0m\u001b[0;34m,\u001b[0m \u001b[0mdtype\u001b[0m\u001b[0;34m=\u001b[0m\u001b[0mdtype\u001b[0m\u001b[0;34m,\u001b[0m \u001b[0morder\u001b[0m\u001b[0;34m=\u001b[0m\u001b[0morder\u001b[0m\u001b[0;34m,\u001b[0m \u001b[0mlike\u001b[0m\u001b[0;34m=\u001b[0m\u001b[0mlike\u001b[0m\u001b[0;34m)\u001b[0m\u001b[0;34m\u001b[0m\u001b[0;34m\u001b[0m\u001b[0m\n\u001b[1;32m    101\u001b[0m \u001b[0;34m\u001b[0m\u001b[0m\n\u001b[0;32m--> 102\u001b[0;31m     \u001b[0;32mreturn\u001b[0m \u001b[0marray\u001b[0m\u001b[0;34m(\u001b[0m\u001b[0ma\u001b[0m\u001b[0;34m,\u001b[0m \u001b[0mdtype\u001b[0m\u001b[0;34m,\u001b[0m \u001b[0mcopy\u001b[0m\u001b[0;34m=\u001b[0m\u001b[0;32mFalse\u001b[0m\u001b[0;34m,\u001b[0m \u001b[0morder\u001b[0m\u001b[0;34m=\u001b[0m\u001b[0morder\u001b[0m\u001b[0;34m)\u001b[0m\u001b[0;34m\u001b[0m\u001b[0;34m\u001b[0m\u001b[0m\n\u001b[0m\u001b[1;32m    103\u001b[0m \u001b[0;34m\u001b[0m\u001b[0m\n\u001b[1;32m    104\u001b[0m \u001b[0;34m\u001b[0m\u001b[0m\n",
      "\u001b[0;31mKeyboardInterrupt\u001b[0m: "
     ]
    }
   ],
   "source": [
    "T = 5000\n",
    "dim = 5\n",
    "lamb = 1\n",
    "theta = np.asarray([4, 3, 2, 1, 0]) * 1/math.sqrt(30)\n",
    "oracle = Oracle(theta)\n",
    "linucb_all_regrets = []\n",
    "ucb_all_regrets = []\n",
    "for k in np.linspace(2, 1000, num=10):\n",
    "    lu_sub_regrets = []\n",
    "    u_sub_regrets = []\n",
    "    \n",
    "    action_set = np.asarray([generate_k_dim_vector(dim) for _ in range(1000)])\n",
    "    for epoch in tqdm(range(100)):\n",
    "        ucb_alg = UCB(action_set, dim=dim, T=T)\n",
    "        linucb_alg = LinUCB(action_set, dim=dim, T=T)\n",
    "        u_sub_regrets.append(train_alg(ucb_alg, T, theta))\n",
    "        lu_sub_regrets.append(train_alg(linucb_alg, T, theta))\n",
    "    ucb_all_regrets.append(np.mean(u_sub_regrets))\n",
    "    linucb_all_regrets.append(np.mean(lu_sub_regrets))"
   ]
  },
  {
   "cell_type": "code",
   "execution_count": 690,
   "id": "73484d5f",
   "metadata": {
    "scrolled": true
   },
   "outputs": [
    {
     "data": {
      "image/png": "[encoded data removed]",
      "text/plain": [
       "<Figure size 432x288 with 1 Axes>"
      ]
     },
     "metadata": {
      "needs_background": "light"
     },
     "output_type": "display_data"
    }
   ],
   "source": [
    "plt.plot(np.linspace(2, 1000, num=10), linucb_all_regrets, label=\"linucb\")\n",
    "plt.plot(np.linspace(2, 1000, num=10), ucb_all_regrets, label=\"ucb\")\n",
    "plt.show()"
   ]
  },
  {
   "cell_type": "code",
   "execution_count": 101,
   "id": "273ef6cb",
   "metadata": {},
   "outputs": [],
   "source": [
    "def plot_vectors(theta, actions):\n",
    "    plt.axis([-1, 1, -1, 1])\n",
    "    plt.quiver(0, 0, theta[0], theta[1], color='green', scale=1)\n",
    "    for idx, action in enumerate(actions):\n",
    "        plt.quiver(0, 0, action[0], action[1], color = [(idx/len(actions), 0, 0)], scale=1)"
   ]
  },
  {
   "cell_type": "code",
   "execution_count": null,
   "id": "d29a5762",
   "metadata": {},
   "outputs": [],
   "source": [
    "delta = .5\n",
    "T = 1000\n",
    "dim = 5\n",
    "lamb = 1\n",
    "\n",
    "action_set = np.matrix([generate_k_dim_vector(dim) for _ in range(1000)])\n",
    "\n"
   ]
  },
  {
   "cell_type": "code",
   "execution_count": null,
   "id": "32d6649d",
   "metadata": {},
   "outputs": [],
   "source": [
    "theta = np.matrix([.5, -.25, .33, -.125, .8])\n",
    "oracle = Oracle(theta)\n",
    "dim = 5\n",
    "alg = LinUCB(action_set, dim=dim)\n",
    "train_alg(alg, T, theta, oracle)\n",
    "# plot_vectors(theta, [alg.actions[-1]])\n",
    "print(alg.actions[-1])\n",
    "print(alg.theta_t)\n",
    "\n",
    "theta = np.matrix([.01, -.01, .01, -.01, .01])\n",
    "oracle = Oracle(theta)\n",
    "alg = LinUCB(action_set, dim=dim)\n",
    "train_alg(alg, T, theta, oracle)\n",
    "print(alg.actions[-1])\n",
    "print(alg.theta_t)"
   ]
  },
  {
   "cell_type": "code",
   "execution_count": 27,
   "id": "9c5a8703",
   "metadata": {},
   "outputs": [
    {
     "ename": "AttributeError",
     "evalue": "module 'matplotlib.pyplot' has no attribute 'quiv'",
     "output_type": "error",
     "traceback": [
      "\u001b[0;31m---------------------------------------------------------------------------\u001b[0m",
      "\u001b[0;31mAttributeError\u001b[0m                            Traceback (most recent call last)",
      "\u001b[0;32m/var/folders/j0/12_hmkfx6bx04_ymlhscx4t80000gp/T/ipykernel_67521/467216575.py\u001b[0m in \u001b[0;36m<module>\u001b[0;34m\u001b[0m\n\u001b[1;32m      5\u001b[0m \u001b[0mplt\u001b[0m\u001b[0;34m.\u001b[0m\u001b[0maxis\u001b[0m\u001b[0;34m(\u001b[0m\u001b[0;34m'equal'\u001b[0m\u001b[0;34m)\u001b[0m\u001b[0;34m\u001b[0m\u001b[0;34m\u001b[0m\u001b[0m\n\u001b[1;32m      6\u001b[0m \u001b[0mplt\u001b[0m\u001b[0;34m.\u001b[0m\u001b[0maxis\u001b[0m\u001b[0;34m(\u001b[0m\u001b[0;34m[\u001b[0m\u001b[0;34m-\u001b[0m\u001b[0;36m1\u001b[0m\u001b[0;34m,\u001b[0m \u001b[0;36m1\u001b[0m\u001b[0;34m,\u001b[0m \u001b[0;34m-\u001b[0m\u001b[0;36m1\u001b[0m\u001b[0;34m,\u001b[0m \u001b[0;36m1\u001b[0m\u001b[0;34m]\u001b[0m\u001b[0;34m)\u001b[0m\u001b[0;34m\u001b[0m\u001b[0;34m\u001b[0m\u001b[0m\n\u001b[0;32m----> 7\u001b[0;31m \u001b[0mplt\u001b[0m\u001b[0;34m.\u001b[0m\u001b[0mquiv\u001b[0m\u001b[0;34m\u001b[0m\u001b[0;34m\u001b[0m\u001b[0m\n\u001b[0m\u001b[1;32m      8\u001b[0m \u001b[0mer\u001b[0m\u001b[0;34m(\u001b[0m\u001b[0;36m0\u001b[0m\u001b[0;34m,\u001b[0m\u001b[0;36m0\u001b[0m\u001b[0;34m,\u001b[0m \u001b[0;36m.8\u001b[0m\u001b[0;34m,\u001b[0m \u001b[0;34m-\u001b[0m\u001b[0;36m.33\u001b[0m\u001b[0;34m,\u001b[0m  \u001b[0mcolor\u001b[0m\u001b[0;34m=\u001b[0m\u001b[0;34m[\u001b[0m\u001b[0;34m(\u001b[0m\u001b[0;36m.5\u001b[0m\u001b[0;34m,\u001b[0m \u001b[0;36m0\u001b[0m\u001b[0;34m,\u001b[0m \u001b[0;36m0\u001b[0m\u001b[0;34m)\u001b[0m\u001b[0;34m]\u001b[0m\u001b[0;34m,\u001b[0m \u001b[0mscale\u001b[0m\u001b[0;34m=\u001b[0m\u001b[0;36m1\u001b[0m\u001b[0;34m)\u001b[0m\u001b[0;34m\u001b[0m\u001b[0;34m\u001b[0m\u001b[0m\n",
      "\u001b[0;31mAttributeError\u001b[0m: module 'matplotlib.pyplot' has no attribute 'quiv'"
     ]
    },
    {
     "data": {
      "image/png": "[encoded data removed]",
      "text/plain": [
       "<Figure size 432x288 with 1 Axes>"
      ]
     },
     "metadata": {
      "needs_background": "light"
     },
     "output_type": "display_data"
    }
   ],
   "source": [
    "x = np.linspace(0,1,11)\n",
    "y = np.linspace(1,0,11)\n",
    "u = v = np.zeros((11,11))\n",
    "u[5,5] = 0.2\n",
    "plt.axis('equal')\n",
    "plt.axis([-1, 1, -1, 1])\n",
    "plt.quiv\n",
    "er(0,0, .8, -.33,  color=[(.5, 0, 0)], scale=1)"
   ]
  },
  {
   "cell_type": "code",
   "execution_count": 1,
   "id": "ffeeeef4",
   "metadata": {},
   "outputs": [],
   "source": [
    "#Change action set to boundaries\n",
    "#Check how two thetas with same optimal actions will have different action sequences\n",
    "#Why are these different? How will these differ?\n",
    "#Choose different colors and figure out the scale\n",
    "#check about frequency of \"pulls\", sum the action sequence!\n",
    "#Candidate values of theta: alternating signs (like with 0.9, 0.5 as values, a lot of coordinates should differ), alternating signs with only one coord differs\n",
    "#Exploratory: If you were just solving mab, can you formulat an alternative estimator that is a solution to an lp\n",
    "#Exploratory: decision variables are unknown means where you have to solve, and every time an arm is pulled, you get a constraint\n",
    "# You also get other constraints that when an arm is not pulled, you get an equality constraint\n",
    "#so look at the end of the horizon, and get the lp from there"
   ]
  },
  {
   "cell_type": "code",
   "execution_count": 16,
   "id": "49ad9f93",
   "metadata": {},
   "outputs": [],
   "source": [
    "import gurobipy as gp"
   ]
  },
  {
   "cell_type": "code",
   "execution_count": 150,
   "id": "5d0f1e68",
   "metadata": {},
   "outputs": [
    {
     "name": "stdout",
     "output_type": "stream",
     "text": [
      "[0, matrix([[2, 3]]), matrix([[2, 3]]), matrix([[3, 2]]), matrix([[2, 3]]), matrix([[2, 3]])]\n"
     ]
    }
   ],
   "source": [
    "delta = .5\n",
    "T = 5\n",
    "dim = 2\n",
    "lamb = 1\n",
    "theta = np.asarray([1, 2])\n",
    "\n",
    "oracle = Oracle(theta)\n",
    "\n",
    "action_set = np.matrix([[3, 2], [2, 3]])\n",
    "\n",
    "alg = LinUCB(action_set)\n",
    "train_alg(alg, T, theta, oracle)\n",
    "print(alg.actions)"
   ]
  },
  {
   "cell_type": "code",
   "execution_count": null,
   "id": "0c1aa521",
   "metadata": {},
   "outputs": [],
   "source": []
  },
  {
   "cell_type": "code",
   "execution_count": null,
   "id": "89f20c19",
   "metadata": {},
   "outputs": [],
   "source": []
  }
 ],
 "metadata": {
  "kernelspec": {
   "display_name": "Python 3 (ipykernel)",
   "language": "python",
   "name": "python3"
  },
  "language_info": {
   "codemirror_mode": {
    "name": "ipython",
    "version": 3
   },
   "file_extension": ".py",
   "mimetype": "text/x-python",
   "name": "python",
   "nbconvert_exporter": "python",
   "pygments_lexer": "ipython3",
   "version": "3.8.11"
  }
 },
 "nbformat": 4,
 "nbformat_minor": 5
}
