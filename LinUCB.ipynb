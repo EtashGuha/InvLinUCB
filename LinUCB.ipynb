{
 "cells": [
  {
   "cell_type": "code",
   "execution_count": 1,
   "id": "a7396b2c",
   "metadata": {},
   "outputs": [],
   "source": [
    "import numpy as np\n",
    "import math\n",
    "from tqdm import tqdm\n",
    "import random\n",
    "import matplotlib.pyplot as plt\n",
    "from scipy.stats import truncnorm\n",
    "import copy\n",
    "from sklearn.metrics import mean_squared_error\n",
    "import warnings\n",
    "warnings.filterwarnings(\"ignore\")"
   ]
  },
  {
   "cell_type": "code",
   "execution_count": 318,
   "id": "43de4f62",
   "metadata": {},
   "outputs": [],
   "source": [
    "class LinUCB():\n",
    "    def __init__(self, arm, dim=2, lamda = 1, T=1000):\n",
    "        self.arm = arm\n",
    "        self.A_t = 0\n",
    "        self.y = np.matrix(np.zeros((dim, 1)))\n",
    "        self.V = np.matrix(lamda * np.identity(dim))\n",
    "        self.lamda = lamda\n",
    "        self.beta =  1 + np.sqrt(2*np.log(T)+dim*np.log((dim+T)/dim))\n",
    "        self.actions = []\n",
    "        self.T = T\n",
    "        self.dim = dim\n",
    "        self.action_idxs = []\n",
    "        self.Vs = [copy.deepcopy(self.V)]\n",
    "    def observe_reward(self, reward):\n",
    "        \n",
    "        self.V = self.V + self.arm[self.A_t].T * self.arm[self.A_t]\n",
    "        self.Vs.append(copy.deepcopy(self.V))\n",
    "        self.y = self.y + self.arm[self.A_t].T * reward\n",
    "        \n",
    "        \n",
    "    def compute(self):\n",
    "        inv_V = np.linalg.inv(self.V)\n",
    "        self.hat_theta = inv_V * self.y\n",
    "        ucb = self.arm * self.hat_theta + self.beta * np.matrix(np.diag(np.sqrt( self.arm * inv_V * self.arm.T ))).T\n",
    "        self.A_t = np.argmax(ucb)\n",
    "        self.actions.append(self.arm[self.A_t])\n",
    "        self.action_idxs.append(self.A_t)\n",
    "        return self.arm[self.A_t]"
   ]
  },
  {
   "cell_type": "code",
   "execution_count": 319,
   "id": "7af8a457",
   "metadata": {},
   "outputs": [],
   "source": [
    "def Baseline1(alg):\n",
    "    sample_means = np.random.rand(len(alg.sample_means))\n",
    "    return sample_means"
   ]
  },
  {
   "cell_type": "code",
   "execution_count": 320,
   "id": "0eef373b",
   "metadata": {},
   "outputs": [],
   "source": [
    "def Baseline2(alg):\n",
    "    taus = [0] * alg.arm.shape[0]\n",
    "    optimal_arm = alg.action_idxs[-1]\n",
    "    num_pulls = {}\n",
    "    for t, action in enumerate(alg.action_idxs):\n",
    "        taus[action] = t\n",
    "\n",
    "    for i in range(len(alg.arm)):\n",
    "        num_pulls[i] = []\n",
    "\n",
    "    for t in range(alg.T):\n",
    "        for key in num_pulls.keys():\n",
    "            if alg.action_idxs[t] != key:\n",
    "                if t != 0:\n",
    "                    num_pulls[key].append(num_pulls[key][ - 1])\n",
    "                else:\n",
    "                    num_pulls[key].append(0)\n",
    "            else:\n",
    "                if t != 0:\n",
    "                    num_pulls[key].append(num_pulls[key][ - 1] + 1)\n",
    "                else:\n",
    "                    num_pulls[key].append(1)\n",
    "\n",
    "    sample_means = []\n",
    "    for idx, tau in enumerate(taus):\n",
    "        if idx is not optimal_arm:\n",
    "            sample_means.append(-2 * UCB.gcb(alg.T, alg.alpha, num_pulls[idx][tau]))\n",
    "        else:\n",
    "            sample_means.append(0)\n",
    "    return np.asarray(sample_means)  \n",
    "    "
   ]
  },
  {
   "cell_type": "code",
   "execution_count": 321,
   "id": "167d6316",
   "metadata": {},
   "outputs": [],
   "source": [
    "class UCB:\n",
    "    def __init__(self, action_set, dim=2, T=1000):\n",
    "        self.arm = action_set\n",
    "        self.T = T\n",
    "        self.alpha = 1/(T**2)\n",
    "        self.sample_means = np.asarray([0.0] * len(action_set))\n",
    "        self.confidence_widths = np.asarray([np.inf] * len(action_set))\n",
    "        self.num_pulls = np.asarray([0] * len(action_set))\n",
    "        self.actions = []\n",
    "        self.action_idxs = []\n",
    "        self.dim = dim\n",
    "        self.counter = 0\n",
    "        self.debug_mean = {}\n",
    "        self.debug_cw = {}\n",
    "        self.debug_np = {}\n",
    "        \n",
    "    def compute(self):\n",
    "        \n",
    "        if self.counter < len(action_set):\n",
    "            index = self.counter\n",
    "        else:\n",
    "            index = np.argmax(self.sample_means + self.confidence_widths)\n",
    "        \n",
    "        self.debug_mean[self.counter] = copy.deepcopy(self.sample_means)\n",
    "        self.debug_cw[self.counter] = copy.deepcopy(self.confidence_widths)\n",
    "        self.debug_np[self.counter] = copy.deepcopy(self.num_pulls)\n",
    "        self.counter += 1\n",
    "        self.num_pulls[index] += 1\n",
    "        \n",
    "        self.action_idxs.append(index)\n",
    "        self.actions.append(self.arm[index])\n",
    "        return self.arm[index]\n",
    "    \n",
    "    def observe_reward(self, reward):\n",
    "        \n",
    "        cur_mean = self.sample_means[self.action_idxs[-1]]\n",
    "        num_samples = self.num_pulls[self.action_idxs[-1]] - 1\n",
    "        new_mean = (cur_mean * num_samples + reward)/(num_samples + 1)\n",
    "        self.sample_means[self.action_idxs[-1]] = new_mean\n",
    "        self.confidence_widths[self.action_idxs[-1]] = self.gcb(self.T, self.alpha, num_samples + 1)\n",
    "        \n",
    "    @staticmethod\n",
    "    def gcb(T, alpha, num_samples):\n",
    "        return np.sqrt(2*(math.pow(T, alpha) - 1)/(alpha * num_samples))\n",
    "        \n",
    "        \n",
    "         "
   ]
  },
  {
   "cell_type": "code",
   "execution_count": 322,
   "id": "9fa123fb",
   "metadata": {},
   "outputs": [],
   "source": [
    "def calc_pseudoregret(theta, actions):\n",
    "    diff = theta - np.max(theta)\n",
    "    new_actions = np.stack(actions, axis=0)\n",
    "    return -np.sum(np.dot(new_actions, theta))"
   ]
  },
  {
   "cell_type": "code",
   "execution_count": 323,
   "id": "c91a9931",
   "metadata": {},
   "outputs": [],
   "source": [
    "class Oracle:\n",
    "    def __init__(self, theta, upper=1, lower=0):\n",
    "        self.theta = theta\n",
    "        self.upper = upper\n",
    "        self.lower = lower\n",
    "        \n",
    "    def compute_reward(self, action):\n",
    "        mu = np.inner(action, self.theta)\n",
    "        sigma = .2\n",
    "        X = truncnorm((self.lower - mu) / sigma, (self.upper - mu) / sigma, loc=mu, scale=sigma)\n",
    "        return X.rvs(1)[0]\n"
   ]
  },
  {
   "cell_type": "code",
   "execution_count": 324,
   "id": "ea3c0759",
   "metadata": {},
   "outputs": [],
   "source": [
    "def train_alg(alg, T, theta, oracle):\n",
    "    alg.actions = [0]\n",
    "    reward = oracle.compute_reward(alg.arm[0])\n",
    "    alg.observe_reward(reward)\n",
    "    for time in range(T):\n",
    "        action = alg.compute()\n",
    "        reward = oracle.compute_reward(action)\n",
    "        alg.observe_reward(reward)\n",
    "        \n",
    "def train_alg_UCB(alg, T, theta, oracle):\n",
    "    for time in range(T):\n",
    "        action = alg.compute()\n",
    "        reward = oracle.compute_reward(action)\n",
    "        alg.observe_reward(reward)"
   ]
  },
  {
   "cell_type": "code",
   "execution_count": 325,
   "id": "318ef4ff",
   "metadata": {},
   "outputs": [],
   "source": [
    "def generate_k_dim_vector(dim=2):\n",
    "    full_index = random.randint(0,dim-1)\n",
    "    vec = np.random.random(int(dim)) * 2 - 1\n",
    "    vec[full_index] = np.sign(vec[full_index]) * 1\n",
    "    return vec\n",
    "\n",
    "def generate_random_vec(dim=2, mag=1):\n",
    "    vec = np.random.random(int(dim))\n",
    "    vec = vec/np.linalg.norm(vec)*mag\n",
    "    return vec"
   ]
  },
  {
   "cell_type": "code",
   "execution_count": 326,
   "id": "273ef6cb",
   "metadata": {},
   "outputs": [],
   "source": [
    "def plot_vectors(theta, actions):\n",
    "    plt.axis([-1, 1, -1, 1])\n",
    "    plt.quiver(0, 0, theta[0], theta[1], color='green', scale=1)\n",
    "    for idx, action in enumerate(actions):\n",
    "        plt.quiver(0, 0, action[0], action[1], color = [(idx/len(actions), 0, 0)], scale=1)"
   ]
  },
  {
   "cell_type": "code",
   "execution_count": 327,
   "id": "ffeeeef4",
   "metadata": {},
   "outputs": [],
   "source": [
    "#Change action set to boundaries\n",
    "#Check how two thetas with same optimal actions will have different action sequences\n",
    "#Why are these different? How will these differ?\n",
    "#Choose different colors and figure out the scale\n",
    "#check about frequency of \"pulls\", sum the action sequence!\n",
    "#Candidate values of theta: alternating signs (like with 0.9, 0.5 as values, a lot of coordinates should differ), alternating signs with only one coord differs\n",
    "#Exploratory: If you were just solving mab, can you formulat an alternative estimator that is a solution to an lp\n",
    "#Exploratory: decision variables are unknown means where you have to solve, and every time an arm is pulled, you get a constraint\n",
    "# You also get other constraints that when an arm is not pulled, you get an equality constraint\n",
    "#so look at the end of the horizon, and get the lp from there"
   ]
  },
  {
   "cell_type": "code",
   "execution_count": 376,
   "id": "d8789845",
   "metadata": {},
   "outputs": [],
   "source": [
    "import gurobipy as gp\n",
    "\n",
    "def estimate_ucb_means_lp(alg):\n",
    "    m = gp.Model()\n",
    "#     m.Params.LogToConsole = 0\n",
    "    all_vars = {}\n",
    "    num_pulls = {}\n",
    "    T = alg.T\n",
    "    for i in range(len(action_set)):\n",
    "        num_pulls[i] = []\n",
    "\n",
    "    for t in range(T):\n",
    "        for key in num_pulls.keys():\n",
    "            if alg.action_idxs[t] != key:\n",
    "                if t != 0:\n",
    "                    num_pulls[key].append(num_pulls[key][ - 1])\n",
    "                else:\n",
    "                    num_pulls[key].append(0)\n",
    "            else:\n",
    "                if t != 0:\n",
    "                    num_pulls[key].append(num_pulls[key][ - 1] + 1)\n",
    "                else:\n",
    "                    num_pulls[key].append(1)\n",
    "\n",
    "    for t in range(T):\n",
    "        for idx, ele in enumerate(action_set):\n",
    "            if t not in all_vars:\n",
    "                all_vars[t] = {}\n",
    "            all_vars[t][idx] = m.addVar(name=\"u_{}_{}\".format(t, idx))\n",
    "\n",
    "    expr = gp.LinExpr()\n",
    "    list_of_all_vars = []\n",
    "    for t in range(T-1,T):\n",
    "        for i in range(len(action_set)):\n",
    "            list_of_all_vars.append(all_vars[t][i])\n",
    "\n",
    "\n",
    "    expr.addTerms([1.0] * len(list_of_all_vars), list_of_all_vars)\n",
    "\n",
    "#     m.setObjective(expr, gp.GRB.MAXIMIZE)\n",
    "\n",
    "\n",
    "\n",
    "    for t, ele in enumerate(alg.action_idxs):\n",
    "        for i in range(len(action_set)):\n",
    "            if i != ele and t >= len(action_set):\n",
    "                m.addConstr(all_vars[t][ele] + UCB.gcb(T, alg.alpha, num_pulls[ele][t-1]) - all_vars[t][i] - UCB.gcb(T, alg.alpha, num_pulls[i][t - 1]) >= 0)\n",
    "                if t + 1 < T:\n",
    "                    m.addConstr(all_vars[t + 1][i] - all_vars[t][i] == 0)\n",
    "            m.addConstr(all_vars[t][i] >= 0)\n",
    "            m.addConstr(all_vars[t][i] <= 1)\n",
    "\n",
    "\n",
    "\n",
    "    m.optimize()\n",
    "    lp_vals = []\n",
    "    for i in range(len(action_set)):\n",
    "        lp_vals.append(all_vars[T-1][i].X)\n",
    "        \n",
    "    return lp_vals"
   ]
  },
  {
   "cell_type": "code",
   "execution_count": 43,
   "id": "e772981f",
   "metadata": {},
   "outputs": [
    {
     "ename": "IndentationError",
     "evalue": "expected an indented block (1041756882.py, line 55)",
     "output_type": "error",
     "traceback": [
      "\u001b[0;36m  File \u001b[0;32m\"/var/folders/j0/12_hmkfx6bx04_ymlhscx4t80000gp/T/ipykernel_4511/1041756882.py\"\u001b[0;36m, line \u001b[0;32m55\u001b[0m\n\u001b[0;31m    for i in range(alg.dim):\u001b[0m\n\u001b[0m    ^\u001b[0m\n\u001b[0;31mIndentationError\u001b[0m\u001b[0;31m:\u001b[0m expected an indented block\n"
     ]
    }
   ],
   "source": [
    "def calc_Vs(alg):\n",
    "    Vs = []\n",
    "    Vs.append(alg.lamda * np.identity(alg.dim))\n",
    "    for t in range(T):\n",
    "        Vs.append(Vs[-1] + (alg.actions[t].T * alg.actions[t]))\n",
    "    return(Vs)\n",
    "\n",
    "def get_orthogonal_matrix(vec):\n",
    "    first = np.identity(len(vec) - 1)\n",
    "    second = -1 * np.expand_dims(vec[1:], axis=0) / vec[0]\n",
    "\n",
    "    others = np.concatenate((second, first),axis=0)\n",
    "\n",
    "    banana = others @ (others.T @ others) @ others.T\n",
    "\n",
    "    return banana\n",
    "\n",
    "def estimate_linucb_means_lp(alg, normalize=True):\n",
    "    m = gp.Model()\n",
    "#     m.Params.LogToConsole = 0\n",
    "    all_vars = {}\n",
    "    T = alg.T\n",
    "\n",
    "    Vs = calc_Vs(alg)\n",
    "    for t in range(alg.T):\n",
    "        all_vars[t] = []\n",
    "        for i in range(alg.dim):\n",
    "            all_vars[t].append(m.addVar(name=\"y_{}_{}\".format(t, i)))\n",
    "\n",
    "    expr = gp.LinExpr()\n",
    "    expr.addTerms([1.0] * len(all_vars[alg.T - 1]),all_vars[alg.T - 1])\n",
    "\n",
    "#     m.setObjective(expr, gp.GRB.MAXIMIZE) \n",
    "    for t in range(T):\n",
    "        for action in action_set:\n",
    "            V = Vs[t]\n",
    "            invV = np.linalg.inv(V)\n",
    "            if action is not alg.actions[t]:\n",
    "                expr = gp.LinExpr()\n",
    "\n",
    "                mult = np.asarray(action @ invV)[0] * -1\n",
    "                expr.addTerms(mult, all_vars[t])\n",
    "                constant = np.sqrt(action @ invV @ action.T) * alg.beta * -1\n",
    "                expr.addConstant(constant)\n",
    "\n",
    "                opt_mult = np.asarray(alg.actions[t] @ invV)[0]\n",
    "                expr.addTerms(opt_mult, all_vars[t])\n",
    "                opt_constant = np.sqrt(alg.actions[t] @ invV @ alg.actions[t].T) * alg.beta\n",
    "                expr.addConstant(opt_constant)\n",
    "\n",
    "                m.addConstr(expr >= 0)\n",
    "\n",
    "                \n",
    "    for t in range(T):\n",
    "        a_t = alg.actions[t]\n",
    "        V_t = Vs[t]\n",
    "        V_tplus1 = Vs[t+1]\n",
    "        \n",
    "        V_t_inv = np.linalg.pinv(V_t)\n",
    "        \n",
    "        orthogonal_projection = None\n",
    "        \n",
    "        \n",
    "    for i in range(alg.dim):\n",
    "        m.addConstr(all_vars[0][i] == 0)\n",
    "\n",
    "\n",
    "\n",
    "    for i in range(alg.dim):\n",
    "        for t in range(alg.T):\n",
    "            if t + 1 < alg.T:\n",
    "                m.addConstr(all_vars[t][i] + 1 >= all_vars[t + 1][i])\n",
    "                m.addConstr(all_vars[t][i] <= all_vars[t+1][i])\n",
    "\n",
    "    m.optimize()\n",
    "\n",
    "    final_Vinv = np.linalg.inv(Vs[-1])\n",
    "    final_y = np.matrix([ele.X for ele in all_vars[alg.T - 1]]).T\n",
    "    \n",
    "    \n",
    "    theta_estimate = np.linalg.inv(Vs[-1]) @ np.matrix(final_y)\n",
    "    \n",
    "    if normalize:\n",
    "        theta_estimate = theta_estimate/np.linalg.norm(theta_estimate)\n",
    "    return theta_estimate            "
   ]
  },
  {
   "cell_type": "code",
   "execution_count": 393,
   "id": "c867c7f7",
   "metadata": {},
   "outputs": [],
   "source": [
    "def normalize_subopt(means):\n",
    "    means = np.asarray(means)\n",
    "    best_value = max(means)\n",
    "    return best_value - means\n",
    "\n",
    "def test_Baseline1(theta, action_set, T=1000):\n",
    "    dim = theta.shape[-1]\n",
    "    oracle = Oracle(theta)\n",
    "    alg = UCB(action_set, T=T, dim=dim)\n",
    "    train_alg_UCB(alg, T, theta, oracle)\n",
    "    \n",
    "    estimate_sample_means = normalize_subopt(Baseline1(alg))\n",
    "    \n",
    "    return mean_squared_error(normalize_subopt(alg.sample_means), estimate_sample_means)\n",
    "    \n",
    "def test_Baseline2(theta, action_set, T=1000):\n",
    "    dim = theta.shape[-1]\n",
    "    oracle = Oracle(theta)\n",
    "    alg = UCB(action_set, T=T, dim=dim)\n",
    "    train_alg_UCB(alg, T, theta, oracle)\n",
    "    \n",
    "    estimate_sample_means = normalize_subopt(Baseline2(alg))\n",
    "    \n",
    "    return mean_squared_error(normalize_subopt(alg.sample_means), estimate_sample_means)"
   ]
  },
  {
   "cell_type": "code",
   "execution_count": 394,
   "id": "17b4d5ca",
   "metadata": {},
   "outputs": [],
   "source": [
    "def test_UCB(theta, action_set, T=1000):\n",
    "    dim = theta.shape[-1]\n",
    "    oracle = Oracle(theta)\n",
    "    alg = UCB(action_set, T=T, dim=dim)\n",
    "    train_alg_UCB(alg, T, theta, oracle)\n",
    "    lp_vals = normalize_subopt(estimate_ucb_means_lp(alg))\n",
    "    \n",
    "    return mean_squared_error(normalize_subopt(alg.sample_means), lp_vals)\n",
    "    \n",
    "def test_LinUCB(theta, action_set, T=1000):\n",
    "    oracle = Oracle(theta)\n",
    "    dim = theta.shape[-1]\n",
    "    alg = LinUCB(action_set, dim=dim, T=T)\n",
    "    \n",
    "    train_alg_UCB(alg, T, theta, oracle)\n",
    "    \n",
    "    true_means = normalize_subopt(action_set @ alg.hat_theta)\n",
    "    theta_estimate = estimate_linucb_means_lp(alg)\n",
    "    estimate_means = normalize_subopt(action_set @ theta_estimate)\n",
    "    \n",
    "    return mean_squared_error(true_means, estimate_means)"
   ]
  },
  {
   "cell_type": "code",
   "execution_count": 380,
   "id": "e40f82db",
   "metadata": {},
   "outputs": [
    {
     "name": "stderr",
     "output_type": "stream",
     "text": [
      "\r",
      "  0%|                                                    | 0/10 [00:00<?, ?it/s]"
     ]
    },
    {
     "name": "stdout",
     "output_type": "stream",
     "text": [
      "Gurobi Optimizer version 9.5.0 build v9.5.0rc5 (mac64[x86])\n",
      "Thread count: 6 physical cores, 12 logical processors, using up to 12 threads\n",
      "Optimize a model with 763 rows, 256 columns and 1014 nonzeros\n",
      "Model fingerprint: 0xd72db1af\n",
      "Coefficient statistics:\n",
      "  Matrix range     [1e+00, 1e+00]\n",
      "  Objective range  [0e+00, 0e+00]\n",
      "  Bounds range     [0e+00, 0e+00]\n",
      "  RHS range        [8e-03, 1e+00]\n",
      "Presolve removed 763 rows and 256 columns\n",
      "Presolve time: 0.00s\n",
      "Presolve: All rows and columns removed\n",
      "Iteration    Objective       Primal Inf.    Dual Inf.      Time\n",
      "       0    0.0000000e+00   0.000000e+00   0.000000e+00      0s\n",
      "\n",
      "Solved in 0 iterations and 0.01 seconds (0.00 work units)\n",
      "Optimal objective  0.000000000e+00\n",
      "Gurobi Optimizer version 9.5.0 build v9.5.0rc5 (mac64[x86])\n",
      "Thread count: 6 physical cores, 12 logical processors, using up to 12 threads\n",
      "Optimize a model with 766 rows, 256 columns and 1274 nonzeros\n",
      "Model fingerprint: 0x8ca17e95\n",
      "Coefficient statistics:\n",
      "  Matrix range     [3e-02, 1e+00]\n",
      "  Objective range  [0e+00, 0e+00]\n",
      "  Bounds range     [0e+00, 0e+00]\n",
      "  RHS range        [2e-16, 1e+00]\n",
      "Presolve removed 389 rows and 4 columns\n",
      "Presolve time: 0.00s\n",
      "Presolved: 377 rows, 502 columns, 1004 nonzeros\n",
      "\n",
      "Iteration    Objective       Primal Inf.    Dual Inf.      Time\n",
      "       0    0.0000000e+00   4.268333e-03   0.000000e+00      0s\n",
      "     127    0.0000000e+00   0.000000e+00   0.000000e+00      0s\n",
      "\n",
      "Solved in 127 iterations and 0.01 seconds (0.00 work units)\n",
      "Optimal objective  0.000000000e+00\n"
     ]
    },
    {
     "name": "stderr",
     "output_type": "stream",
     "text": [
      "\r",
      " 10%|████▍                                       | 1/10 [00:00<00:05,  1.78it/s]"
     ]
    },
    {
     "name": "stdout",
     "output_type": "stream",
     "text": [
      "Gurobi Optimizer version 9.5.0 build v9.5.0rc5 (mac64[x86])\n",
      "Thread count: 6 physical cores, 12 logical processors, using up to 12 threads\n",
      "Optimize a model with 763 rows, 256 columns and 1014 nonzeros\n",
      "Model fingerprint: 0xbfe73144\n",
      "Coefficient statistics:\n",
      "  Matrix range     [1e+00, 1e+00]\n",
      "  Objective range  [0e+00, 0e+00]\n",
      "  Bounds range     [0e+00, 0e+00]\n",
      "  RHS range        [6e-02, 1e+00]\n",
      "Presolve removed 763 rows and 256 columns\n",
      "Presolve time: 0.00s\n",
      "Presolve: All rows and columns removed\n",
      "Iteration    Objective       Primal Inf.    Dual Inf.      Time\n",
      "       0    0.0000000e+00   0.000000e+00   0.000000e+00      0s\n",
      "\n",
      "Solved in 0 iterations and 0.00 seconds (0.00 work units)\n",
      "Optimal objective  0.000000000e+00\n",
      "Gurobi Optimizer version 9.5.0 build v9.5.0rc5 (mac64[x86])\n",
      "Thread count: 6 physical cores, 12 logical processors, using up to 12 threads\n",
      "Optimize a model with 766 rows, 256 columns and 1274 nonzeros\n",
      "Model fingerprint: 0xcc25b47c\n",
      "Coefficient statistics:\n",
      "  Matrix range     [2e-02, 1e+00]\n",
      "  Objective range  [0e+00, 0e+00]\n",
      "  Bounds range     [0e+00, 0e+00]\n",
      "  RHS range        [1e-16, 1e+00]\n",
      "Presolve removed 389 rows and 4 columns\n",
      "Presolve time: 0.00s\n",
      "Presolved: 377 rows, 502 columns, 1004 nonzeros\n",
      "\n",
      "Iteration    Objective       Primal Inf.    Dual Inf.      Time\n",
      "       0    0.0000000e+00   2.050037e-01   0.000000e+00      0s\n",
      "     201    0.0000000e+00   0.000000e+00   0.000000e+00      0s\n",
      "\n",
      "Solved in 201 iterations and 0.01 seconds (0.00 work units)\n",
      "Optimal objective  0.000000000e+00\n"
     ]
    },
    {
     "name": "stderr",
     "output_type": "stream",
     "text": [
      "\r",
      " 20%|████████▊                                   | 2/10 [00:01<00:04,  1.86it/s]"
     ]
    },
    {
     "name": "stdout",
     "output_type": "stream",
     "text": [
      "Gurobi Optimizer version 9.5.0 build v9.5.0rc5 (mac64[x86])\n",
      "Thread count: 6 physical cores, 12 logical processors, using up to 12 threads\n",
      "Optimize a model with 763 rows, 256 columns and 1014 nonzeros\n",
      "Model fingerprint: 0x63e9e666\n",
      "Coefficient statistics:\n",
      "  Matrix range     [1e+00, 1e+00]\n",
      "  Objective range  [0e+00, 0e+00]\n",
      "  Bounds range     [0e+00, 0e+00]\n",
      "  RHS range        [9e-02, 1e+00]\n",
      "Presolve removed 763 rows and 256 columns\n",
      "Presolve time: 0.00s\n",
      "Presolve: All rows and columns removed\n",
      "Iteration    Objective       Primal Inf.    Dual Inf.      Time\n",
      "       0    0.0000000e+00   0.000000e+00   0.000000e+00      0s\n",
      "\n",
      "Solved in 0 iterations and 0.00 seconds (0.00 work units)\n",
      "Optimal objective  0.000000000e+00\n",
      "Gurobi Optimizer version 9.5.0 build v9.5.0rc5 (mac64[x86])\n",
      "Thread count: 6 physical cores, 12 logical processors, using up to 12 threads\n",
      "Optimize a model with 766 rows, 256 columns and 1274 nonzeros\n",
      "Model fingerprint: 0xdd852d7d\n",
      "Coefficient statistics:\n",
      "  Matrix range     [3e-02, 1e+00]\n",
      "  Objective range  [0e+00, 0e+00]\n",
      "  Bounds range     [0e+00, 0e+00]\n",
      "  RHS range        [2e-16, 1e+00]\n",
      "Presolve removed 390 rows and 4 columns\n",
      "Presolve time: 0.00s\n",
      "Presolved: 376 rows, 502 columns, 1002 nonzeros\n",
      "\n",
      "Iteration    Objective       Primal Inf.    Dual Inf.      Time\n",
      "       0    0.0000000e+00   2.568048e-02   0.000000e+00      0s\n",
      "     189    0.0000000e+00   0.000000e+00   0.000000e+00      0s\n",
      "\n",
      "Solved in 189 iterations and 0.01 seconds (0.00 work units)\n",
      "Optimal objective  0.000000000e+00\n"
     ]
    },
    {
     "name": "stderr",
     "output_type": "stream",
     "text": [
      "\r",
      " 30%|█████████████▏                              | 3/10 [00:01<00:03,  1.76it/s]"
     ]
    },
    {
     "name": "stdout",
     "output_type": "stream",
     "text": [
      "Gurobi Optimizer version 9.5.0 build v9.5.0rc5 (mac64[x86])\n",
      "Thread count: 6 physical cores, 12 logical processors, using up to 12 threads\n",
      "Optimize a model with 763 rows, 256 columns and 1014 nonzeros\n",
      "Model fingerprint: 0x39b1016c\n",
      "Coefficient statistics:\n",
      "  Matrix range     [1e+00, 1e+00]\n",
      "  Objective range  [0e+00, 0e+00]\n",
      "  Bounds range     [0e+00, 0e+00]\n",
      "  RHS range        [3e-03, 1e+00]\n",
      "Presolve removed 763 rows and 256 columns\n",
      "Presolve time: 0.00s\n",
      "Presolve: All rows and columns removed\n",
      "Iteration    Objective       Primal Inf.    Dual Inf.      Time\n",
      "       0    0.0000000e+00   0.000000e+00   0.000000e+00      0s\n",
      "\n",
      "Solved in 0 iterations and 0.01 seconds (0.00 work units)\n",
      "Optimal objective  0.000000000e+00\n",
      "Gurobi Optimizer version 9.5.0 build v9.5.0rc5 (mac64[x86])\n",
      "Thread count: 6 physical cores, 12 logical processors, using up to 12 threads\n",
      "Optimize a model with 766 rows, 256 columns and 1274 nonzeros\n",
      "Model fingerprint: 0xb4652d4a\n",
      "Coefficient statistics:\n",
      "  Matrix range     [1e-02, 1e+00]\n",
      "  Objective range  [0e+00, 0e+00]\n",
      "  Bounds range     [0e+00, 0e+00]\n",
      "  RHS range        [1e-16, 1e+00]\n",
      "Presolve removed 389 rows and 4 columns\n",
      "Presolve time: 0.00s\n",
      "Presolved: 377 rows, 502 columns, 1004 nonzeros\n",
      "\n",
      "Iteration    Objective       Primal Inf.    Dual Inf.      Time\n",
      "       0    0.0000000e+00   4.876714e-03   0.000000e+00      0s\n",
      "     204    0.0000000e+00   0.000000e+00   0.000000e+00      0s\n",
      "\n",
      "Solved in 204 iterations and 0.01 seconds (0.00 work units)\n",
      "Optimal objective  0.000000000e+00\n"
     ]
    },
    {
     "name": "stderr",
     "output_type": "stream",
     "text": [
      "\r",
      " 40%|█████████████████▌                          | 4/10 [00:02<00:03,  1.81it/s]"
     ]
    },
    {
     "name": "stdout",
     "output_type": "stream",
     "text": [
      "Gurobi Optimizer version 9.5.0 build v9.5.0rc5 (mac64[x86])\n",
      "Thread count: 6 physical cores, 12 logical processors, using up to 12 threads\n",
      "Optimize a model with 763 rows, 256 columns and 1014 nonzeros\n",
      "Model fingerprint: 0x17f749b7\n",
      "Coefficient statistics:\n",
      "  Matrix range     [1e+00, 1e+00]\n",
      "  Objective range  [0e+00, 0e+00]\n",
      "  Bounds range     [0e+00, 0e+00]\n",
      "  RHS range        [8e-02, 1e+00]\n",
      "Presolve removed 763 rows and 256 columns\n",
      "Presolve time: 0.01s\n",
      "Presolve: All rows and columns removed\n",
      "Iteration    Objective       Primal Inf.    Dual Inf.      Time\n",
      "       0    0.0000000e+00   0.000000e+00   0.000000e+00      0s\n",
      "\n",
      "Solved in 0 iterations and 0.01 seconds (0.00 work units)\n",
      "Optimal objective  0.000000000e+00\n",
      "Gurobi Optimizer version 9.5.0 build v9.5.0rc5 (mac64[x86])\n",
      "Thread count: 6 physical cores, 12 logical processors, using up to 12 threads\n",
      "Optimize a model with 766 rows, 256 columns and 1274 nonzeros\n",
      "Model fingerprint: 0x84e9e21b\n",
      "Coefficient statistics:\n",
      "  Matrix range     [2e-02, 1e+00]\n",
      "  Objective range  [0e+00, 0e+00]\n",
      "  Bounds range     [0e+00, 0e+00]\n",
      "  RHS range        [4e-16, 1e+00]\n",
      "Presolve removed 390 rows and 4 columns\n",
      "Presolve time: 0.01s\n",
      "Presolved: 376 rows, 500 columns, 1000 nonzeros\n",
      "\n",
      "Iteration    Objective       Primal Inf.    Dual Inf.      Time\n",
      "       0    0.0000000e+00   1.859734e-02   0.000000e+00      0s\n",
      "     148    0.0000000e+00   0.000000e+00   0.000000e+00      0s\n",
      "\n",
      "Solved in 148 iterations and 0.01 seconds (0.00 work units)\n",
      "Optimal objective  0.000000000e+00\n"
     ]
    },
    {
     "name": "stderr",
     "output_type": "stream",
     "text": [
      "\r",
      " 50%|██████████████████████                      | 5/10 [00:02<00:02,  1.88it/s]"
     ]
    },
    {
     "name": "stdout",
     "output_type": "stream",
     "text": [
      "Gurobi Optimizer version 9.5.0 build v9.5.0rc5 (mac64[x86])\n",
      "Thread count: 6 physical cores, 12 logical processors, using up to 12 threads\n",
      "Optimize a model with 763 rows, 256 columns and 1014 nonzeros\n",
      "Model fingerprint: 0xe9446097\n",
      "Coefficient statistics:\n",
      "  Matrix range     [1e+00, 1e+00]\n",
      "  Objective range  [0e+00, 0e+00]\n",
      "  Bounds range     [0e+00, 0e+00]\n",
      "  RHS range        [4e-02, 1e+00]\n",
      "Presolve removed 763 rows and 256 columns\n",
      "Presolve time: 0.00s\n",
      "Presolve: All rows and columns removed\n",
      "Iteration    Objective       Primal Inf.    Dual Inf.      Time\n",
      "       0    0.0000000e+00   0.000000e+00   0.000000e+00      0s\n",
      "\n",
      "Solved in 0 iterations and 0.01 seconds (0.00 work units)\n",
      "Optimal objective  0.000000000e+00\n",
      "Gurobi Optimizer version 9.5.0 build v9.5.0rc5 (mac64[x86])\n",
      "Thread count: 6 physical cores, 12 logical processors, using up to 12 threads\n",
      "Optimize a model with 766 rows, 256 columns and 1274 nonzeros\n",
      "Model fingerprint: 0x10a6b245\n",
      "Coefficient statistics:\n",
      "  Matrix range     [3e-02, 1e+00]\n",
      "  Objective range  [0e+00, 0e+00]\n",
      "  Bounds range     [0e+00, 0e+00]\n",
      "  RHS range        [4e-16, 1e+00]\n",
      "Presolve removed 390 rows and 4 columns\n",
      "Presolve time: 0.00s\n",
      "Presolved: 376 rows, 500 columns, 1000 nonzeros\n",
      "\n",
      "Iteration    Objective       Primal Inf.    Dual Inf.      Time\n",
      "       0    0.0000000e+00   1.605270e-02   0.000000e+00      0s\n",
      "     191    0.0000000e+00   0.000000e+00   0.000000e+00      0s\n",
      "\n",
      "Solved in 191 iterations and 0.01 seconds (0.00 work units)\n",
      "Optimal objective  0.000000000e+00\n"
     ]
    },
    {
     "name": "stderr",
     "output_type": "stream",
     "text": [
      "\r",
      " 60%|██████████████████████████▍                 | 6/10 [00:03<00:02,  1.93it/s]"
     ]
    },
    {
     "name": "stdout",
     "output_type": "stream",
     "text": [
      "Gurobi Optimizer version 9.5.0 build v9.5.0rc5 (mac64[x86])\n",
      "Thread count: 6 physical cores, 12 logical processors, using up to 12 threads\n",
      "Optimize a model with 763 rows, 256 columns and 1014 nonzeros\n",
      "Model fingerprint: 0x7520be80\n",
      "Coefficient statistics:\n",
      "  Matrix range     [1e+00, 1e+00]\n",
      "  Objective range  [0e+00, 0e+00]\n",
      "  Bounds range     [0e+00, 0e+00]\n",
      "  RHS range        [5e-02, 1e+00]\n",
      "Presolve removed 763 rows and 256 columns\n",
      "Presolve time: 0.00s\n",
      "Presolve: All rows and columns removed\n",
      "Iteration    Objective       Primal Inf.    Dual Inf.      Time\n",
      "       0    0.0000000e+00   0.000000e+00   0.000000e+00      0s\n",
      "\n",
      "Solved in 0 iterations and 0.01 seconds (0.00 work units)\n",
      "Optimal objective  0.000000000e+00\n",
      "Gurobi Optimizer version 9.5.0 build v9.5.0rc5 (mac64[x86])\n",
      "Thread count: 6 physical cores, 12 logical processors, using up to 12 threads\n",
      "Optimize a model with 766 rows, 256 columns and 1274 nonzeros\n",
      "Model fingerprint: 0x0aad1713\n",
      "Coefficient statistics:\n",
      "  Matrix range     [2e-02, 1e+00]\n",
      "  Objective range  [0e+00, 0e+00]\n",
      "  Bounds range     [0e+00, 0e+00]\n",
      "  RHS range        [4e-16, 1e+00]\n",
      "Presolve removed 390 rows and 4 columns\n",
      "Presolve time: 0.00s\n",
      "Presolved: 376 rows, 500 columns, 1000 nonzeros\n",
      "\n",
      "Iteration    Objective       Primal Inf.    Dual Inf.      Time\n",
      "       0    0.0000000e+00   2.044310e-02   0.000000e+00      0s\n",
      "     124    0.0000000e+00   0.000000e+00   0.000000e+00      0s\n",
      "\n",
      "Solved in 124 iterations and 0.01 seconds (0.00 work units)\n",
      "Optimal objective  0.000000000e+00\n"
     ]
    },
    {
     "name": "stderr",
     "output_type": "stream",
     "text": [
      "\r",
      " 70%|██████████████████████████████▊             | 7/10 [00:03<00:01,  1.94it/s]"
     ]
    },
    {
     "name": "stdout",
     "output_type": "stream",
     "text": [
      "Gurobi Optimizer version 9.5.0 build v9.5.0rc5 (mac64[x86])\n",
      "Thread count: 6 physical cores, 12 logical processors, using up to 12 threads\n",
      "Optimize a model with 763 rows, 256 columns and 1014 nonzeros\n",
      "Model fingerprint: 0x22828f05\n",
      "Coefficient statistics:\n",
      "  Matrix range     [1e+00, 1e+00]\n",
      "  Objective range  [0e+00, 0e+00]\n",
      "  Bounds range     [0e+00, 0e+00]\n",
      "  RHS range        [3e-03, 1e+00]\n",
      "Presolve removed 763 rows and 256 columns\n",
      "Presolve time: 0.00s\n",
      "Presolve: All rows and columns removed\n",
      "Iteration    Objective       Primal Inf.    Dual Inf.      Time\n",
      "       0    0.0000000e+00   0.000000e+00   0.000000e+00      0s\n",
      "\n",
      "Solved in 0 iterations and 0.01 seconds (0.00 work units)\n",
      "Optimal objective  0.000000000e+00\n",
      "Gurobi Optimizer version 9.5.0 build v9.5.0rc5 (mac64[x86])\n",
      "Thread count: 6 physical cores, 12 logical processors, using up to 12 threads\n",
      "Optimize a model with 766 rows, 256 columns and 1274 nonzeros\n",
      "Model fingerprint: 0x2486d087\n",
      "Coefficient statistics:\n",
      "  Matrix range     [6e-02, 1e+00]\n",
      "  Objective range  [0e+00, 0e+00]\n",
      "  Bounds range     [0e+00, 0e+00]\n",
      "  RHS range        [2e-16, 1e+00]\n",
      "Presolve removed 389 rows and 4 columns\n",
      "Presolve time: 0.00s\n",
      "Presolved: 377 rows, 502 columns, 1004 nonzeros\n",
      "\n",
      "Iteration    Objective       Primal Inf.    Dual Inf.      Time\n",
      "       0    0.0000000e+00   7.321880e-02   0.000000e+00      0s\n",
      "     151    0.0000000e+00   0.000000e+00   0.000000e+00      0s\n",
      "\n",
      "Solved in 151 iterations and 0.01 seconds (0.00 work units)\n",
      "Optimal objective  0.000000000e+00\n"
     ]
    },
    {
     "name": "stderr",
     "output_type": "stream",
     "text": [
      "\r",
      " 80%|███████████████████████████████████▏        | 8/10 [00:04<00:01,  1.95it/s]"
     ]
    },
    {
     "name": "stdout",
     "output_type": "stream",
     "text": [
      "Gurobi Optimizer version 9.5.0 build v9.5.0rc5 (mac64[x86])\n",
      "Thread count: 6 physical cores, 12 logical processors, using up to 12 threads\n",
      "Optimize a model with 763 rows, 256 columns and 1014 nonzeros\n",
      "Model fingerprint: 0x5ee79234\n",
      "Coefficient statistics:\n",
      "  Matrix range     [1e+00, 1e+00]\n",
      "  Objective range  [0e+00, 0e+00]\n",
      "  Bounds range     [0e+00, 0e+00]\n",
      "  RHS range        [3e-03, 1e+00]\n",
      "Presolve removed 763 rows and 256 columns\n",
      "Presolve time: 0.01s\n",
      "Presolve: All rows and columns removed\n",
      "Iteration    Objective       Primal Inf.    Dual Inf.      Time\n",
      "       0    0.0000000e+00   0.000000e+00   0.000000e+00      0s\n",
      "\n",
      "Solved in 0 iterations and 0.01 seconds (0.00 work units)\n",
      "Optimal objective  0.000000000e+00\n",
      "Gurobi Optimizer version 9.5.0 build v9.5.0rc5 (mac64[x86])\n",
      "Thread count: 6 physical cores, 12 logical processors, using up to 12 threads\n",
      "Optimize a model with 766 rows, 256 columns and 1274 nonzeros\n",
      "Model fingerprint: 0x6798f4e8\n",
      "Coefficient statistics:\n",
      "  Matrix range     [2e-02, 1e+00]\n",
      "  Objective range  [0e+00, 0e+00]\n",
      "  Bounds range     [0e+00, 0e+00]\n",
      "  RHS range        [2e-16, 1e+00]\n",
      "Presolve removed 390 rows and 4 columns\n",
      "Presolve time: 0.00s\n",
      "Presolved: 376 rows, 502 columns, 1002 nonzeros\n",
      "\n",
      "Iteration    Objective       Primal Inf.    Dual Inf.      Time\n",
      "       0    0.0000000e+00   3.336140e-01   0.000000e+00      0s\n",
      "     218    0.0000000e+00   0.000000e+00   0.000000e+00      0s\n",
      "\n",
      "Solved in 218 iterations and 0.01 seconds (0.00 work units)\n",
      "Optimal objective  0.000000000e+00\n"
     ]
    },
    {
     "name": "stderr",
     "output_type": "stream",
     "text": [
      "\r",
      " 90%|███████████████████████████████████████▌    | 9/10 [00:04<00:00,  1.97it/s]"
     ]
    },
    {
     "name": "stdout",
     "output_type": "stream",
     "text": [
      "Gurobi Optimizer version 9.5.0 build v9.5.0rc5 (mac64[x86])\n",
      "Thread count: 6 physical cores, 12 logical processors, using up to 12 threads\n",
      "Optimize a model with 763 rows, 256 columns and 1014 nonzeros\n",
      "Model fingerprint: 0xcf39227c\n",
      "Coefficient statistics:\n",
      "  Matrix range     [1e+00, 1e+00]\n",
      "  Objective range  [0e+00, 0e+00]\n",
      "  Bounds range     [0e+00, 0e+00]\n",
      "  RHS range        [2e-01, 1e+00]\n",
      "Presolve removed 763 rows and 256 columns\n",
      "Presolve time: 0.00s\n",
      "Presolve: All rows and columns removed\n",
      "Iteration    Objective       Primal Inf.    Dual Inf.      Time\n",
      "       0    0.0000000e+00   0.000000e+00   0.000000e+00      0s\n",
      "\n",
      "Solved in 0 iterations and 0.01 seconds (0.00 work units)\n",
      "Optimal objective  0.000000000e+00\n",
      "Gurobi Optimizer version 9.5.0 build v9.5.0rc5 (mac64[x86])\n",
      "Thread count: 6 physical cores, 12 logical processors, using up to 12 threads\n",
      "Optimize a model with 766 rows, 256 columns and 1274 nonzeros\n",
      "Model fingerprint: 0xcf21d97f\n",
      "Coefficient statistics:\n",
      "  Matrix range     [1e-02, 1e+00]\n",
      "  Objective range  [0e+00, 0e+00]\n",
      "  Bounds range     [0e+00, 0e+00]\n",
      "  RHS range        [2e-01, 1e+00]\n",
      "Presolve removed 390 rows and 4 columns\n",
      "Presolve time: 0.00s\n",
      "Presolved: 376 rows, 500 columns, 1000 nonzeros\n",
      "\n",
      "Iteration    Objective       Primal Inf.    Dual Inf.      Time\n",
      "       0    0.0000000e+00   4.921865e-02   0.000000e+00      0s\n",
      "     124    0.0000000e+00   0.000000e+00   0.000000e+00      0s\n",
      "\n",
      "Solved in 124 iterations and 0.01 seconds (0.00 work units)\n",
      "Optimal objective  0.000000000e+00\n"
     ]
    },
    {
     "name": "stderr",
     "output_type": "stream",
     "text": [
      "100%|███████████████████████████████████████████| 10/10 [00:05<00:00,  1.93it/s]\n"
     ]
    }
   ],
   "source": [
    "Ts =  [128, 256, 512, 1024, 2048]\n",
    "NumArmss = [2, 8, 16, 32, 64, 128]\n",
    "num_epochs = 10\n",
    "ucb_errors = {}\n",
    "linucb_errors = {}\n",
    "baseline_1_errors = {}\n",
    "baseline_2_errors = {}\n",
    "for T in Ts:\n",
    "    \n",
    "    ucb_errors[T] = {}\n",
    "    linucb_errors[T] = {}\n",
    "    baseline_1_errors[T] = {}\n",
    "    baseline_2_errors[T] = {}\n",
    "    \n",
    "    for num_arms in NumArmss:\n",
    "        ucb_errors[T][num_arms] = []\n",
    "        linucb_errors[T][num_arms] = []\n",
    "        baseline_1_errors[T][num_arms] = []\n",
    "        baseline_2_errors[T][num_arms] = []\n",
    "        \n",
    "        for _ in tqdm(range(num_epochs)):\n",
    "            theta = np.matrix(generate_random_vec(dim = 2))\n",
    "            action_set = np.matrix([generate_random_vec(dim = 2) for _ in range(num_arms)])\n",
    "            \n",
    "            ucb_error = test_UCB(theta, action_set, T=T)\n",
    "            lin_ucb_error = test_LinUCB(theta, action_set, T=T)\n",
    "            baseline_1_error = test_Baseline1(theta, action_set, T=T)\n",
    "            baseline_2_error = test_Baseline2(theta, action_set, T=T)\n",
    "            \n",
    "            linucb_errors[T][num_arms].append(lin_ucb_error)\n",
    "            ucb_errors[T][num_arms].append(ucb_error)\n",
    "            baseline_1_errors[T][num_arms].append(baseline_1_error)\n",
    "            baseline_2_errors[T][num_arms].append(baseline_2_error)\n",
    "            "
   ]
  },
  {
   "cell_type": "code",
   "execution_count": 382,
   "id": "cdc01b65",
   "metadata": {},
   "outputs": [
    {
     "name": "stdout",
     "output_type": "stream",
     "text": [
      "{128: {2: [0.012780232011150708, 0.0005582099097165618, 0.07879486090839621, 0.0006704437260372811, 0.17405090481196817, 0.19468399850836682, 0.24306159433733696, 0.01285928796617674, 0.17293939805628, 0.19329517652433725]}}\n",
      "{128: {2: [0.00020488719688694645, 1.2242548182791822e-05, 0.34639330501814136, 1.5822529480542458e-05, 0.3680859436441486, 0.3550765133378839, 0.28228499881229374, 4.7568528623348555e-05, 0.48354033106260635, 0.1799890048905097]}}\n",
      "{128: {2: [0.11811419647315978, 0.006471613285499168, 0.032244446268327405, 0.04992393406598355, 0.0032489711463628518, 0.00045385225745159447, 9.879509384609865e-05, 0.004783803547495503, 0.003685803507197123, 0.06892979186045092]}}\n",
      "{128: {2: [3.6516391777792426e-05, 0.0015153541170036824, 0.01853879774046114, 2.791385443167711e-05, 0.016215604873031614, 0.003235521251843035, 0.02038080363218624, 0.0001465690473713807, 0.0015244733606269837, 0.05211515295574434]}}\n"
     ]
    }
   ],
   "source": [
    "print(linucb_errors)\n",
    "print(ucb_errors)\n",
    "print(baseline_1_errors)\n",
    "print(baseline_2_errors)"
   ]
  },
  {
   "cell_type": "code",
   "execution_count": 386,
   "id": "c42cae6a",
   "metadata": {},
   "outputs": [],
   "source": [
    "import pickle\n",
    "with open(\"data.pkl\", \"wb\") as f:\n",
    "    pickle.dump((ucb_errors, linucb_errors, baseline_1_errors, baseline_2_errors), f)"
   ]
  },
  {
   "cell_type": "code",
   "execution_count": 388,
   "id": "c10763a4",
   "metadata": {},
   "outputs": [],
   "source": [
    "from mpl_toolkits.mplot3d import Axes3D\n",
    "from scipy.interpolate import griddata\n",
    "import matplotlib.pyplot as plt\n",
    "import numpy as np\n",
    "import pickle\n",
    "Ts =  [128, 256, 512, 1024, 2048]\n",
    "NumArmss = [2, 8, 16, 32, 64, 128]\n",
    "def plot(errors, title, remove_outliers=False):\n",
    "    plt.clf()\n",
    "    data = []\n",
    "    for T in Ts:\n",
    "        for num_arms in NumArmss:\n",
    "            for ele in errors[T][num_arms]:\n",
    "                if not remove_outliers or ele < 20:\n",
    "                    data.append((T, num_arms, ele))\n",
    "                    \n",
    "    x, y, z = zip(*data)\n",
    "    fig = plt.figure()\n",
    "    ax = fig.add_subplot(projection='3d')\n",
    "    ax.set_title(title)\n",
    "    ax.scatter(x,y,z)\n",
    "    ax.set_xlabel(\"T\")\n",
    "    ax.set_ylabel(\"Num Arms\")\n",
    "    ax.set_zlabel(\"MSE\")\n",
    "    plt.savefig(\"linucb.png\")\n",
    "    plt.show()\n",
    "\n",
    "def plot_many(errors_list, names, title, remove_outliers=False):\n",
    "    plt.clf()\n",
    "    fig = plt.figure()\n",
    "    ax = fig.add_subplot(projection='3d')\n",
    "    ax.set_title(title)\n",
    "    \n",
    "    colors = ['tab:blue', 'tab:orange', 'tab:green', \"tab:red\"]\n",
    "    for idx, errors in enumerate(errors_list):\n",
    "    \n",
    "        data = []\n",
    "        for T in Ts:\n",
    "            for num_arms in NumArmss:\n",
    "                for ele in errors[T][num_arms]:\n",
    "                    if not remove_outliers or ele < 20:\n",
    "                        data.append((T, num_arms, ele))\n",
    "\n",
    "        x, y, z = zip(*data)\n",
    "        ax.scatter(x,y,z, c=colors[idx], label=names[idx])\n",
    "    ax.legend()\n",
    "    ax.set_xlabel(\"T\")\n",
    "    ax.set_ylabel(\"Num Arms\")\n",
    "    ax.set_zlabel(\"MSE\")\n",
    "    plt.savefig(\"linucb.png\")\n",
    "    plt.show()"
   ]
  },
  {
   "cell_type": "code",
   "execution_count": 389,
   "id": "cee162c1",
   "metadata": {},
   "outputs": [
    {
     "ename": "KeyError",
     "evalue": "8",
     "output_type": "error",
     "traceback": [
      "\u001b[0;31m---------------------------------------------------------------------------\u001b[0m",
      "\u001b[0;31mKeyError\u001b[0m                                  Traceback (most recent call last)",
      "\u001b[0;32m/var/folders/j0/12_hmkfx6bx04_ymlhscx4t80000gp/T/ipykernel_82143/3400061557.py\u001b[0m in \u001b[0;36m<module>\u001b[0;34m\u001b[0m\n\u001b[0;32m----> 1\u001b[0;31m \u001b[0mplot\u001b[0m\u001b[0;34m(\u001b[0m\u001b[0mucb_errors\u001b[0m\u001b[0;34m,\u001b[0m \u001b[0;34m\"UCB Prediction Error\"\u001b[0m\u001b[0;34m)\u001b[0m\u001b[0;34m\u001b[0m\u001b[0;34m\u001b[0m\u001b[0m\n\u001b[0m",
      "\u001b[0;32m/var/folders/j0/12_hmkfx6bx04_ymlhscx4t80000gp/T/ipykernel_82143/2017084948.py\u001b[0m in \u001b[0;36mplot\u001b[0;34m(errors, title, remove_outliers)\u001b[0m\n\u001b[1;32m     11\u001b[0m     \u001b[0;32mfor\u001b[0m \u001b[0mT\u001b[0m \u001b[0;32min\u001b[0m \u001b[0mTs\u001b[0m\u001b[0;34m:\u001b[0m\u001b[0;34m\u001b[0m\u001b[0;34m\u001b[0m\u001b[0m\n\u001b[1;32m     12\u001b[0m         \u001b[0;32mfor\u001b[0m \u001b[0mnum_arms\u001b[0m \u001b[0;32min\u001b[0m \u001b[0mNumArmss\u001b[0m\u001b[0;34m:\u001b[0m\u001b[0;34m\u001b[0m\u001b[0;34m\u001b[0m\u001b[0m\n\u001b[0;32m---> 13\u001b[0;31m             \u001b[0;32mfor\u001b[0m \u001b[0mele\u001b[0m \u001b[0;32min\u001b[0m \u001b[0merrors\u001b[0m\u001b[0;34m[\u001b[0m\u001b[0mT\u001b[0m\u001b[0;34m]\u001b[0m\u001b[0;34m[\u001b[0m\u001b[0mnum_arms\u001b[0m\u001b[0;34m]\u001b[0m\u001b[0;34m:\u001b[0m\u001b[0;34m\u001b[0m\u001b[0;34m\u001b[0m\u001b[0m\n\u001b[0m\u001b[1;32m     14\u001b[0m                 \u001b[0;32mif\u001b[0m \u001b[0;32mnot\u001b[0m \u001b[0mremove_outliers\u001b[0m \u001b[0;32mor\u001b[0m \u001b[0mele\u001b[0m \u001b[0;34m<\u001b[0m \u001b[0;36m20\u001b[0m\u001b[0;34m:\u001b[0m\u001b[0;34m\u001b[0m\u001b[0;34m\u001b[0m\u001b[0m\n\u001b[1;32m     15\u001b[0m                     \u001b[0mdata\u001b[0m\u001b[0;34m.\u001b[0m\u001b[0mappend\u001b[0m\u001b[0;34m(\u001b[0m\u001b[0;34m(\u001b[0m\u001b[0mT\u001b[0m\u001b[0;34m,\u001b[0m \u001b[0mnum_arms\u001b[0m\u001b[0;34m,\u001b[0m \u001b[0mele\u001b[0m\u001b[0;34m)\u001b[0m\u001b[0;34m)\u001b[0m\u001b[0;34m\u001b[0m\u001b[0;34m\u001b[0m\u001b[0m\n",
      "\u001b[0;31mKeyError\u001b[0m: 8"
     ]
    },
    {
     "data": {
      "text/plain": [
       "<Figure size 432x288 with 0 Axes>"
      ]
     },
     "metadata": {},
     "output_type": "display_data"
    }
   ],
   "source": [
    "plot(ucb_errors, \"UCB Prediction Error\")"
   ]
  },
  {
   "cell_type": "code",
   "execution_count": 390,
   "id": "55fb2ff1",
   "metadata": {},
   "outputs": [
    {
     "ename": "KeyError",
     "evalue": "8",
     "output_type": "error",
     "traceback": [
      "\u001b[0;31m---------------------------------------------------------------------------\u001b[0m",
      "\u001b[0;31mKeyError\u001b[0m                                  Traceback (most recent call last)",
      "\u001b[0;32m/var/folders/j0/12_hmkfx6bx04_ymlhscx4t80000gp/T/ipykernel_82143/4086306410.py\u001b[0m in \u001b[0;36m<module>\u001b[0;34m\u001b[0m\n\u001b[0;32m----> 1\u001b[0;31m \u001b[0mplot\u001b[0m\u001b[0;34m(\u001b[0m\u001b[0mlinucb_errors\u001b[0m\u001b[0;34m,\u001b[0m \u001b[0;34m\"LinUCB Prediction Error\"\u001b[0m\u001b[0;34m)\u001b[0m\u001b[0;34m\u001b[0m\u001b[0;34m\u001b[0m\u001b[0m\n\u001b[0m",
      "\u001b[0;32m/var/folders/j0/12_hmkfx6bx04_ymlhscx4t80000gp/T/ipykernel_82143/2017084948.py\u001b[0m in \u001b[0;36mplot\u001b[0;34m(errors, title, remove_outliers)\u001b[0m\n\u001b[1;32m     11\u001b[0m     \u001b[0;32mfor\u001b[0m \u001b[0mT\u001b[0m \u001b[0;32min\u001b[0m \u001b[0mTs\u001b[0m\u001b[0;34m:\u001b[0m\u001b[0;34m\u001b[0m\u001b[0;34m\u001b[0m\u001b[0m\n\u001b[1;32m     12\u001b[0m         \u001b[0;32mfor\u001b[0m \u001b[0mnum_arms\u001b[0m \u001b[0;32min\u001b[0m \u001b[0mNumArmss\u001b[0m\u001b[0;34m:\u001b[0m\u001b[0;34m\u001b[0m\u001b[0;34m\u001b[0m\u001b[0m\n\u001b[0;32m---> 13\u001b[0;31m             \u001b[0;32mfor\u001b[0m \u001b[0mele\u001b[0m \u001b[0;32min\u001b[0m \u001b[0merrors\u001b[0m\u001b[0;34m[\u001b[0m\u001b[0mT\u001b[0m\u001b[0;34m]\u001b[0m\u001b[0;34m[\u001b[0m\u001b[0mnum_arms\u001b[0m\u001b[0;34m]\u001b[0m\u001b[0;34m:\u001b[0m\u001b[0;34m\u001b[0m\u001b[0;34m\u001b[0m\u001b[0m\n\u001b[0m\u001b[1;32m     14\u001b[0m                 \u001b[0;32mif\u001b[0m \u001b[0;32mnot\u001b[0m \u001b[0mremove_outliers\u001b[0m \u001b[0;32mor\u001b[0m \u001b[0mele\u001b[0m \u001b[0;34m<\u001b[0m \u001b[0;36m20\u001b[0m\u001b[0;34m:\u001b[0m\u001b[0;34m\u001b[0m\u001b[0;34m\u001b[0m\u001b[0m\n\u001b[1;32m     15\u001b[0m                     \u001b[0mdata\u001b[0m\u001b[0;34m.\u001b[0m\u001b[0mappend\u001b[0m\u001b[0;34m(\u001b[0m\u001b[0;34m(\u001b[0m\u001b[0mT\u001b[0m\u001b[0;34m,\u001b[0m \u001b[0mnum_arms\u001b[0m\u001b[0;34m,\u001b[0m \u001b[0mele\u001b[0m\u001b[0;34m)\u001b[0m\u001b[0;34m)\u001b[0m\u001b[0;34m\u001b[0m\u001b[0;34m\u001b[0m\u001b[0m\n",
      "\u001b[0;31mKeyError\u001b[0m: 8"
     ]
    },
    {
     "data": {
      "text/plain": [
       "<Figure size 432x288 with 0 Axes>"
      ]
     },
     "metadata": {},
     "output_type": "display_data"
    }
   ],
   "source": [
    "plot(linucb_errors, \"LinUCB Prediction Error\")"
   ]
  },
  {
   "cell_type": "code",
   "execution_count": 391,
   "id": "3e68b1af",
   "metadata": {},
   "outputs": [
    {
     "ename": "KeyError",
     "evalue": "8",
     "output_type": "error",
     "traceback": [
      "\u001b[0;31m---------------------------------------------------------------------------\u001b[0m",
      "\u001b[0;31mKeyError\u001b[0m                                  Traceback (most recent call last)",
      "\u001b[0;32m/var/folders/j0/12_hmkfx6bx04_ymlhscx4t80000gp/T/ipykernel_82143/2505924125.py\u001b[0m in \u001b[0;36m<module>\u001b[0;34m\u001b[0m\n\u001b[0;32m----> 1\u001b[0;31m \u001b[0mplot\u001b[0m\u001b[0;34m(\u001b[0m\u001b[0mbaseline_1_errors\u001b[0m\u001b[0;34m,\u001b[0m \u001b[0;34m\"Baseline 1 Error\"\u001b[0m\u001b[0;34m)\u001b[0m\u001b[0;34m\u001b[0m\u001b[0;34m\u001b[0m\u001b[0m\n\u001b[0m",
      "\u001b[0;32m/var/folders/j0/12_hmkfx6bx04_ymlhscx4t80000gp/T/ipykernel_82143/2017084948.py\u001b[0m in \u001b[0;36mplot\u001b[0;34m(errors, title, remove_outliers)\u001b[0m\n\u001b[1;32m     11\u001b[0m     \u001b[0;32mfor\u001b[0m \u001b[0mT\u001b[0m \u001b[0;32min\u001b[0m \u001b[0mTs\u001b[0m\u001b[0;34m:\u001b[0m\u001b[0;34m\u001b[0m\u001b[0;34m\u001b[0m\u001b[0m\n\u001b[1;32m     12\u001b[0m         \u001b[0;32mfor\u001b[0m \u001b[0mnum_arms\u001b[0m \u001b[0;32min\u001b[0m \u001b[0mNumArmss\u001b[0m\u001b[0;34m:\u001b[0m\u001b[0;34m\u001b[0m\u001b[0;34m\u001b[0m\u001b[0m\n\u001b[0;32m---> 13\u001b[0;31m             \u001b[0;32mfor\u001b[0m \u001b[0mele\u001b[0m \u001b[0;32min\u001b[0m \u001b[0merrors\u001b[0m\u001b[0;34m[\u001b[0m\u001b[0mT\u001b[0m\u001b[0;34m]\u001b[0m\u001b[0;34m[\u001b[0m\u001b[0mnum_arms\u001b[0m\u001b[0;34m]\u001b[0m\u001b[0;34m:\u001b[0m\u001b[0;34m\u001b[0m\u001b[0;34m\u001b[0m\u001b[0m\n\u001b[0m\u001b[1;32m     14\u001b[0m                 \u001b[0;32mif\u001b[0m \u001b[0;32mnot\u001b[0m \u001b[0mremove_outliers\u001b[0m \u001b[0;32mor\u001b[0m \u001b[0mele\u001b[0m \u001b[0;34m<\u001b[0m \u001b[0;36m20\u001b[0m\u001b[0;34m:\u001b[0m\u001b[0;34m\u001b[0m\u001b[0;34m\u001b[0m\u001b[0m\n\u001b[1;32m     15\u001b[0m                     \u001b[0mdata\u001b[0m\u001b[0;34m.\u001b[0m\u001b[0mappend\u001b[0m\u001b[0;34m(\u001b[0m\u001b[0;34m(\u001b[0m\u001b[0mT\u001b[0m\u001b[0;34m,\u001b[0m \u001b[0mnum_arms\u001b[0m\u001b[0;34m,\u001b[0m \u001b[0mele\u001b[0m\u001b[0;34m)\u001b[0m\u001b[0;34m)\u001b[0m\u001b[0;34m\u001b[0m\u001b[0;34m\u001b[0m\u001b[0m\n",
      "\u001b[0;31mKeyError\u001b[0m: 8"
     ]
    },
    {
     "data": {
      "text/plain": [
       "<Figure size 432x288 with 0 Axes>"
      ]
     },
     "metadata": {},
     "output_type": "display_data"
    }
   ],
   "source": [
    "plot(baseline_1_errors, \"Baseline 1 Error\")"
   ]
  },
  {
   "cell_type": "code",
   "execution_count": 362,
   "id": "fe598860",
   "metadata": {},
   "outputs": [
    {
     "data": {
      "text/plain": [
       "<Figure size 432x288 with 0 Axes>"
      ]
     },
     "metadata": {},
     "output_type": "display_data"
    },
    {
     "data": {
      "image/png": "[encoded data removed]",
      "text/plain": [
       "<Figure size 432x288 with 1 Axes>"
      ]
     },
     "metadata": {
      "needs_background": "light"
     },
     "output_type": "display_data"
    }
   ],
   "source": [
    "plot(baseline_2_errors, \"Baseline 2 Error\", remove_outliers=True)"
   ]
  },
  {
   "cell_type": "code",
   "execution_count": 364,
   "id": "1d4593a8",
   "metadata": {},
   "outputs": [
    {
     "data": {
      "text/plain": [
       "<Figure size 432x288 with 0 Axes>"
      ]
     },
     "metadata": {},
     "output_type": "display_data"
    },
    {
     "data": {
      "image/png": "[encoded data removed]",
      "text/plain": [
       "<Figure size 432x288 with 1 Axes>"
      ]
     },
     "metadata": {
      "needs_background": "light"
     },
     "output_type": "display_data"
    }
   ],
   "source": [
    "plot_many([linucb_errors, ucb_errors, baseline_2_errors], [\"LinUCB LP\", \"UCB LP\", \"Baseline 2\"], \"All\", remove_outliers=True)"
   ]
  },
  {
   "cell_type": "code",
   "execution_count": 42,
   "id": "a3b02528",
   "metadata": {},
   "outputs": [
    {
     "name": "stdout",
     "output_type": "stream",
     "text": [
      "[[-0.02439024 -8.31707317]\n",
      " [ 1.          0.        ]\n",
      " [ 0.          1.        ]]\n",
      "[0.00000000e+00 1.42108547e-14 0.00000000e+00]\n"
     ]
    }
   ],
   "source": [
    "vec = np.asarray([41,1,341])\n",
    "\n",
    "def get_orthogonal_matrix(vec):\n",
    "    first = np.identity(len(vec) - 1)\n",
    "    second = -1 * np.expand_dims(vec[1:], axis=0) / vec[0]\n",
    "\n",
    "    others = np.concatenate((second, first),axis=0)\n",
    "\n",
    "    banana = others @ (others.T @ others) @ others.T\n",
    "\n",
    "    return banana"
   ]
  },
  {
   "cell_type": "code",
   "execution_count": null,
   "id": "8e1e302e",
   "metadata": {},
   "outputs": [],
   "source": []
  }
 ],
 "metadata": {
  "kernelspec": {
   "display_name": "Python 3 (ipykernel)",
   "language": "python",
   "name": "python3"
  },
  "language_info": {
   "codemirror_mode": {
    "name": "ipython",
    "version": 3
   },
   "file_extension": ".py",
   "mimetype": "text/x-python",
   "name": "python",
   "nbconvert_exporter": "python",
   "pygments_lexer": "ipython3",
   "version": "3.8.11"
  }
 },
 "nbformat": 4,
 "nbformat_minor": 5
}
