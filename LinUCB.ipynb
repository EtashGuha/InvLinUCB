{
 "cells": [
  {
   "cell_type": "code",
   "execution_count": 188,
   "id": "a7396b2c",
   "metadata": {},
   "outputs": [],
   "source": [
    "import numpy as np\n",
    "import math\n",
    "from tqdm import tqdm\n",
    "import random\n",
    "import matplotlib.pyplot as plt\n",
    "from scipy.stats import truncnorm\n",
    "import copy\n",
    "from sklearn.metrics import mean_squared_error"
   ]
  },
  {
   "cell_type": "code",
   "execution_count": 189,
   "id": "43de4f62",
   "metadata": {},
   "outputs": [],
   "source": [
    "class LinUCB():\n",
    "    def __init__(self, arm, dim=2, lamda = 1, T=1000):\n",
    "        self.arm = arm\n",
    "        self.A_t = 0\n",
    "        self.y = np.matrix(np.zeros((dim, 1)))\n",
    "        self.V = np.matrix(lamda * np.identity(dim))\n",
    "        self.lamda = lamda\n",
    "        self.beta =  1 + np.sqrt(2*np.log(T)+dim*np.log((dim+T)/dim))\n",
    "        self.actions = []\n",
    "        self.T = T\n",
    "        self.dim = dim\n",
    "        self.action_idxs = []\n",
    "        self.Vs = [copy.deepcopy(self.V)]\n",
    "    def observe_reward(self, reward):\n",
    "        \n",
    "        self.V = self.V + self.arm[self.A_t].T * self.arm[self.A_t]\n",
    "        self.Vs.append(copy.deepcopy(self.V))\n",
    "        self.y = self.y + self.arm[self.A_t].T * reward\n",
    "        \n",
    "        \n",
    "    def compute(self):\n",
    "        inv_V = np.linalg.inv(self.V)\n",
    "        self.hat_theta = inv_V * self.y\n",
    "        ucb = self.arm * self.hat_theta + self.beta * np.matrix(np.diag(np.sqrt( self.arm * inv_V * self.arm.T ))).T\n",
    "        self.A_t = np.argmax(ucb)\n",
    "        self.actions.append(self.arm[self.A_t])\n",
    "        self.action_idxs.append(self.A_t)\n",
    "        return self.arm[self.A_t]"
   ]
  },
  {
   "cell_type": "code",
   "execution_count": 190,
   "id": "22594096",
   "metadata": {},
   "outputs": [],
   "source": [
    "def Baseline1(alg):\n",
    "    sample_means = np.random.rand(len(alg.sample_means))\n",
    "    return sample_means"
   ]
  },
  {
   "cell_type": "code",
   "execution_count": 218,
   "id": "c136319b",
   "metadata": {},
   "outputs": [],
   "source": [
    "def Baseline2(alg):\n",
    "    taus = [0] * alg.arm.shape[0]\n",
    "    try:\n",
    "        num_pulls = {}\n",
    "        for t, action in enumerate(alg.action_idxs):\n",
    "            taus[action] = t\n",
    "\n",
    "        for i in range(len(alg.arm)):\n",
    "            num_pulls[i] = []\n",
    "\n",
    "        for t in range(alg.T):\n",
    "            for key in num_pulls.keys():\n",
    "                if alg.action_idxs[t] != key:\n",
    "                    if t != 0:\n",
    "                        num_pulls[key].append(num_pulls[key][ - 1])\n",
    "                    else:\n",
    "                        num_pulls[key].append(0)\n",
    "                else:\n",
    "                    if t != 0:\n",
    "                        num_pulls[key].append(num_pulls[key][ - 1] + 1)\n",
    "                    else:\n",
    "                        num_pulls[key].append(1)\n",
    "\n",
    "        sample_means = []\n",
    "        for idx, tau in enumerate(taus):\n",
    "            sample_means.append(-2 * UCB.gcb(alg.T, alg.alpha, num_pulls[idx][tau]))\n",
    "    except:\n",
    "        for idx, tau in enumerate(taus):\n",
    "            print(num_pulls[idx][tau])\n",
    "        \n",
    "        breakpoint()\n",
    "    return np.asarray(sample_means)  \n",
    "    "
   ]
  },
  {
   "cell_type": "code",
   "execution_count": 219,
   "id": "167d6316",
   "metadata": {},
   "outputs": [],
   "source": [
    "class UCB:\n",
    "    def __init__(self, action_set, dim=2, T=1000):\n",
    "        self.arm = action_set\n",
    "        self.T = T\n",
    "        self.alpha = 1/(T**2)\n",
    "        self.sample_means = np.asarray([0.0] * len(action_set))\n",
    "        self.confidence_widths = np.asarray([np.inf] * len(action_set))\n",
    "        self.num_pulls = np.asarray([0] * len(action_set))\n",
    "        self.actions = []\n",
    "        self.action_idxs = []\n",
    "        self.dim = dim\n",
    "        self.counter = 0\n",
    "        self.debug_mean = {}\n",
    "        self.debug_cw = {}\n",
    "        self.debug_np = {}\n",
    "        \n",
    "    def compute(self):\n",
    "        \n",
    "        if self.counter < len(action_set):\n",
    "            index = self.counter\n",
    "        else:\n",
    "            index = np.argmax(self.sample_means + self.confidence_widths)\n",
    "        \n",
    "        self.debug_mean[self.counter] = copy.deepcopy(self.sample_means)\n",
    "        self.debug_cw[self.counter] = copy.deepcopy(self.confidence_widths)\n",
    "        self.debug_np[self.counter] = copy.deepcopy(self.num_pulls)\n",
    "        self.counter += 1\n",
    "        self.num_pulls[index] += 1\n",
    "        \n",
    "        self.action_idxs.append(index)\n",
    "        self.actions.append(self.arm[index])\n",
    "        return self.arm[index]\n",
    "    \n",
    "    def observe_reward(self, reward):\n",
    "        \n",
    "        cur_mean = self.sample_means[self.action_idxs[-1]]\n",
    "        num_samples = self.num_pulls[self.action_idxs[-1]] - 1\n",
    "        new_mean = (cur_mean * num_samples + reward)/(num_samples + 1)\n",
    "        self.sample_means[self.action_idxs[-1]] = new_mean\n",
    "        self.confidence_widths[self.action_idxs[-1]] = self.gcb(self.T, self.alpha, num_samples + 1)\n",
    "        \n",
    "    @staticmethod\n",
    "    def gcb(T, alpha, num_samples):\n",
    "        return np.sqrt(2*(math.pow(T, alpha) - 1)/(alpha * num_samples))\n",
    "        \n",
    "        \n",
    "         "
   ]
  },
  {
   "cell_type": "code",
   "execution_count": 220,
   "id": "9fa123fb",
   "metadata": {},
   "outputs": [],
   "source": [
    "def calc_pseudoregret(theta, actions):\n",
    "    diff = theta - np.max(theta)\n",
    "    new_actions = np.stack(actions, axis=0)\n",
    "    return -np.sum(np.dot(new_actions, theta))"
   ]
  },
  {
   "cell_type": "code",
   "execution_count": 221,
   "id": "c91a9931",
   "metadata": {},
   "outputs": [],
   "source": [
    "class Oracle:\n",
    "    def __init__(self, theta, upper=1, lower=0):\n",
    "        self.theta = theta\n",
    "        self.upper = upper\n",
    "        self.lower = lower\n",
    "        \n",
    "    def compute_reward(self, action):\n",
    "        mu = np.inner(action, self.theta)\n",
    "        sigma = .2\n",
    "        X = truncnorm((self.lower - mu) / sigma, (self.upper - mu) / sigma, loc=mu, scale=sigma)\n",
    "        return X.rvs(1)[0]\n"
   ]
  },
  {
   "cell_type": "code",
   "execution_count": 222,
   "id": "ea3c0759",
   "metadata": {},
   "outputs": [],
   "source": [
    "def train_alg(alg, T, theta, oracle):\n",
    "    alg.actions = [0]\n",
    "    reward = oracle.compute_reward(alg.arm[0])\n",
    "    alg.observe_reward(reward)\n",
    "    for time in range(T):\n",
    "        action = alg.compute()\n",
    "        reward = oracle.compute_reward(action)\n",
    "        alg.observe_reward(reward)\n",
    "        \n",
    "def train_alg_UCB(alg, T, theta, oracle):\n",
    "    for time in range(T):\n",
    "        action = alg.compute()\n",
    "        reward = oracle.compute_reward(action)\n",
    "        alg.observe_reward(reward)"
   ]
  },
  {
   "cell_type": "code",
   "execution_count": 223,
   "id": "318ef4ff",
   "metadata": {},
   "outputs": [],
   "source": [
    "def generate_k_dim_vector(dim=2):\n",
    "    full_index = random.randint(0,dim-1)\n",
    "    vec = np.random.random(int(dim)) * 2 - 1\n",
    "    vec[full_index] = np.sign(vec[full_index]) * 1\n",
    "    return vec\n",
    "\n",
    "def generate_random_vec(dim=2, mag=1):\n",
    "    vec = np.random.random(int(dim))\n",
    "    vec = vec/np.linalg.norm(vec)*mag\n",
    "    return vec"
   ]
  },
  {
   "cell_type": "code",
   "execution_count": 224,
   "id": "273ef6cb",
   "metadata": {},
   "outputs": [],
   "source": [
    "def plot_vectors(theta, actions):\n",
    "    plt.axis([-1, 1, -1, 1])\n",
    "    plt.quiver(0, 0, theta[0], theta[1], color='green', scale=1)\n",
    "    for idx, action in enumerate(actions):\n",
    "        plt.quiver(0, 0, action[0], action[1], color = [(idx/len(actions), 0, 0)], scale=1)"
   ]
  },
  {
   "cell_type": "code",
   "execution_count": 225,
   "id": "ffeeeef4",
   "metadata": {},
   "outputs": [],
   "source": [
    "#Change action set to boundaries\n",
    "#Check how two thetas with same optimal actions will have different action sequences\n",
    "#Why are these different? How will these differ?\n",
    "#Choose different colors and figure out the scale\n",
    "#check about frequency of \"pulls\", sum the action sequence!\n",
    "#Candidate values of theta: alternating signs (like with 0.9, 0.5 as values, a lot of coordinates should differ), alternating signs with only one coord differs\n",
    "#Exploratory: If you were just solving mab, can you formulat an alternative estimator that is a solution to an lp\n",
    "#Exploratory: decision variables are unknown means where you have to solve, and every time an arm is pulled, you get a constraint\n",
    "# You also get other constraints that when an arm is not pulled, you get an equality constraint\n",
    "#so look at the end of the horizon, and get the lp from there"
   ]
  },
  {
   "cell_type": "code",
   "execution_count": 226,
   "id": "d8789845",
   "metadata": {},
   "outputs": [],
   "source": [
    "import gurobipy as gp\n",
    "\n",
    "def estimate_ucb_means_lp(alg):\n",
    "    m = gp.Model()\n",
    "    all_vars = {}\n",
    "    num_pulls = {}\n",
    "    T = alg.T\n",
    "    for i in range(len(action_set)):\n",
    "        num_pulls[i] = []\n",
    "\n",
    "    for t in range(T):\n",
    "        for key in num_pulls.keys():\n",
    "            if alg.action_idxs[t] != key:\n",
    "                if t != 0:\n",
    "                    num_pulls[key].append(num_pulls[key][ - 1])\n",
    "                else:\n",
    "                    num_pulls[key].append(0)\n",
    "            else:\n",
    "                if t != 0:\n",
    "                    num_pulls[key].append(num_pulls[key][ - 1] + 1)\n",
    "                else:\n",
    "                    num_pulls[key].append(1)\n",
    "\n",
    "    for t in range(T):\n",
    "        for idx, ele in enumerate(action_set):\n",
    "            if t not in all_vars:\n",
    "                all_vars[t] = {}\n",
    "            all_vars[t][idx] = m.addVar(name=\"u_{}_{}\".format(t, idx))\n",
    "\n",
    "    expr = gp.LinExpr()\n",
    "    list_of_all_vars = []\n",
    "    for t in range(T-1,T):\n",
    "        for i in range(len(action_set)):\n",
    "            list_of_all_vars.append(all_vars[t][i])\n",
    "\n",
    "    \n",
    "    expr.addTerms([1.0] * len(list_of_all_vars), list_of_all_vars)\n",
    "\n",
    "    m.setObjective(expr, gp.GRB.MAXIMIZE)\n",
    "\n",
    "\n",
    "\n",
    "    for t, ele in enumerate(alg.action_idxs):\n",
    "        for i in range(len(action_set)):\n",
    "            if i != ele and t >= len(action_set):\n",
    "                m.addConstr(all_vars[t][ele] + UCB.gcb(T, alg.alpha, num_pulls[ele][t-1]) - all_vars[t][i] - UCB.gcb(T, alg.alpha, num_pulls[i][t - 1]) >= 0)\n",
    "                if t + 1 < T:\n",
    "                    m.addConstr(all_vars[t + 1][i] - all_vars[t][i] == 0)\n",
    "            m.addConstr(all_vars[t][i] >= 0)\n",
    "            m.addConstr(all_vars[t][i] <= 1)\n",
    "\n",
    "\n",
    "\n",
    "    m.optimize()\n",
    "    lp_vals = []\n",
    "    for i in range(len(action_set)):\n",
    "        lp_vals.append(all_vars[T-1][i].X)\n",
    "        \n",
    "    return lp_vals"
   ]
  },
  {
   "cell_type": "code",
   "execution_count": 227,
   "id": "e772981f",
   "metadata": {},
   "outputs": [],
   "source": [
    "def calc_Vs(alg):\n",
    "    Vs = []\n",
    "    Vs.append(alg.lamda * np.identity(alg.dim))\n",
    "    for t in range(T):\n",
    "        Vs.append(Vs[-1] + (alg.actions[t].T * alg.actions[t]))\n",
    "    return(Vs)\n",
    "\n",
    "def estimate_linucb_means_lp(alg, normalize=True):\n",
    "    m = gp.Model()\n",
    "    all_vars = {}\n",
    "    T = alg.T\n",
    "    \n",
    "    Vs = calc_Vs(alg)\n",
    "    for t in range(alg.T):\n",
    "        all_vars[t] = []\n",
    "        for i in range(alg.dim):\n",
    "            all_vars[t].append(m.addVar(name=\"y_{}_{}\".format(t, i)))\n",
    "    \n",
    "    expr = gp.LinExpr()\n",
    "    expr.addTerms([1.0] * len(all_vars[alg.T - 1]),all_vars[alg.T - 1])\n",
    "    \n",
    "    m.setObjective(expr, gp.GRB.MAXIMIZE) \n",
    "    for t in range(T):\n",
    "        for action in action_set:\n",
    "            V = Vs[t]\n",
    "            invV = np.linalg.inv(V)\n",
    "            if action is not alg.actions[t]:\n",
    "                expr = gp.LinExpr()\n",
    "                \n",
    "                mult = np.asarray(action @ invV)[0] * -1\n",
    "                expr.addTerms(mult, all_vars[t])\n",
    "                constant = np.sqrt(action @ invV @ action.T) * alg.beta * -1\n",
    "                expr.addConstant(constant)\n",
    "                          \n",
    "                opt_mult = np.asarray(alg.actions[t] @ invV)[0]\n",
    "                expr.addTerms(opt_mult, all_vars[t])\n",
    "                opt_constant = np.sqrt(alg.actions[t] @ invV @ alg.actions[t].T) * alg.beta\n",
    "                expr.addConstant(opt_constant)\n",
    "                \n",
    "                m.addConstr(expr >= 0)\n",
    "    \n",
    "    for i in range(alg.dim):\n",
    "        m.addConstr(all_vars[0][i] == 0)\n",
    "                \n",
    "                \n",
    "    \n",
    "    for i in range(alg.dim):\n",
    "        for t in range(alg.T):\n",
    "            if t + 1 < alg.T:\n",
    "                m.addConstr(all_vars[t][i] + 1 >= all_vars[t + 1][i])\n",
    "                m.addConstr(all_vars[t][i] <= all_vars[t+1][i])\n",
    "\n",
    "    m.optimize()\n",
    "            \n",
    "    final_Vinv = np.linalg.inv(Vs[-1])\n",
    "    final_y = np.matrix([ele.X for ele in all_vars[alg.T - 1]]).T\n",
    "    \n",
    "    \n",
    "    theta_estimate = np.linalg.inv(Vs[-1]) @ np.matrix(final_y)\n",
    "    \n",
    "    if normalize:\n",
    "        theta_estimate = theta_estimate/np.linalg.norm(theta_estimate)\n",
    "    return theta_estimate            "
   ]
  },
  {
   "cell_type": "code",
   "execution_count": 228,
   "id": "d7371e87",
   "metadata": {},
   "outputs": [],
   "source": [
    "def normalize_subopt(means):\n",
    "    means = np.asarray(means)\n",
    "    best_value = max(means)\n",
    "    return best_value - means\n",
    "\n",
    "def test_Baseline1(theta, action_set, T=1000):\n",
    "    dim = theta.shape[-1]\n",
    "    oracle = Oracle(theta)\n",
    "    alg = UCB(action_set, T=T, dim=dim)\n",
    "    train_alg_UCB(alg, T, theta, oracle)\n",
    "    \n",
    "    estimate_sample_means = normalize_subopt(Baseline1(alg))\n",
    "    \n",
    "    return mean_squared_error(normalize_subopt(alg.sample_means), estimate_sample_means)\n",
    "    \n",
    "def test_Baseline2(theta, action_set, T=1000):\n",
    "    dim = theta.shape[-1]\n",
    "    oracle = Oracle(theta)\n",
    "    alg = UCB(action_set, T=T, dim=dim)\n",
    "    train_alg_UCB(alg, T, theta, oracle)\n",
    "    \n",
    "    estimate_sample_means = Baseline2(alg)\n",
    "    \n",
    "    return mean_squared_error(normalize_subopt(alg.sample_means), estimate_sample_means)"
   ]
  },
  {
   "cell_type": "code",
   "execution_count": 235,
   "id": "17b4d5ca",
   "metadata": {},
   "outputs": [],
   "source": [
    "def test_UCB(theta, action_set, T=1000):\n",
    "    dim = theta.shape[-1]\n",
    "    oracle = Oracle(theta)\n",
    "    alg = UCB(action_set, T=T, dim=dim)\n",
    "    train_alg_UCB(alg, T, theta, oracle)\n",
    "    lp_vals = normalize_subopt(estimate_ucb_means_lp(alg))\n",
    "    \n",
    "    return mean_squared_error(normalize_subopt(alg.sample_means), lp_vals)\n",
    "    \n",
    "def test_LinUCB(theta, action_set, T=1000):\n",
    "    oracle = Oracle(theta)\n",
    "    dim = theta.shape[-1]\n",
    "    alg = LinUCB(action_set, dim=dim, T=T)\n",
    "    \n",
    "    train_alg_UCB(alg, T, theta, oracle)\n",
    "    \n",
    "    true_means = normalize_subopt(action_set @ alg.hat_theta)\n",
    "    theta_estimate = estimate_linucb_means_lp(alg)\n",
    "    estimate_means = normalize_subopt(action_set @ theta_estimate)\n",
    "    \n",
    "    return mean_squared_error(true_means, estimate_means)"
   ]
  },
  {
   "cell_type": "code",
   "execution_count": 240,
   "id": "e40f82db",
   "metadata": {},
   "outputs": [],
   "source": [
    "Ts =  [2000]\n",
    "NumArmss = [100]\n",
    "num_epochs = 10\n",
    "ucb_errors = {}\n",
    "linucb_errors = {}\n",
    "baseline_1_errors = {}\n",
    "baseline_2_errors = {}\n",
    "for T in Ts:\n",
    "    \n",
    "    ucb_errors[T] = {}\n",
    "    linucb_errors[T] = {}\n",
    "    baseline_1_errors[T] = {}\n",
    "    baseline_2_errors[T] = {}\n",
    "    \n",
    "    for num_arms in NumArmss:\n",
    "        ucb_errors[T][num_arms] = []\n",
    "        linucb_errors[T][num_arms] = []\n",
    "        baseline_1_errors[T][num_arms] = []\n",
    "        baseline_2_errors[T][num_arms] = []\n",
    "        \n",
    "        for _ in range(num_epochs):\n",
    "            theta = np.matrix(generate_random_vec(dim = 2))\n",
    "            action_set = np.matrix([generate_random_vec(dim = 2) for _ in range(num_arms)])\n",
    "            \n",
    "            ucb_error = test_UCB(theta, action_set, T=T)\n",
    "            lin_ucb_error = test_LinUCB(theta, action_set, T=T)\n",
    "            baseline_1_error = test_Baseline1(theta, action_set, T=T)\n",
    "            baseline_2_error = test_Baseline2(theta, action_set, T=T)\n",
    "            \n",
    "            linucb_errors[T][num_arms].append(lin_ucb_error)\n",
    "            ucb_errors[T][num_arms].append(ucb_error)\n",
    "            baseline_1_errors[T][num_arms].append(baseline_1_error)\n",
    "            baseline_2_errors[T][num_arms].append(baseline_2_error)\n",
    "            "
   ]
  },
  {
   "cell_type": "code",
   "execution_count": 241,
   "id": "17098b57",
   "metadata": {},
   "outputs": [
    {
     "name": "stdout",
     "output_type": "stream",
     "text": [
      "{2000: {100: [3.39243214968726, 4.88082311524936, 3.871294927039973, 4.601892232584587, 3.6329697743319698, 3.5204658556716515, 3.8071736889890286, 4.675812117097695, 4.087188184776834, 3.6025461209815783]}}\n",
      "{2000: {100: []}}\n",
      "{2000: {100: []}}\n",
      "{2000: {100: []}}\n"
     ]
    }
   ],
   "source": [
    "print(baseline_2_errors)\n",
    "print(linucb_errors)\n",
    "print(ucb_errors)\n",
    "print(baseline_1_errors)\n"
   ]
  },
  {
   "cell_type": "code",
   "execution_count": 49,
   "id": "c42cae6a",
   "metadata": {},
   "outputs": [],
   "source": [
    "import pickle\n",
    "with open(\"data.pkl\", \"wb\") as f:\n",
    "    pickle.dump((ucb_errors, linucb_errors), f)"
   ]
  },
  {
   "cell_type": "code",
   "execution_count": 6,
   "id": "c10763a4",
   "metadata": {},
   "outputs": [],
   "source": [
    "from mpl_toolkits.mplot3d import Axes3D\n",
    "from scipy.interpolate import griddata\n",
    "import matplotlib.pyplot as plt\n",
    "import numpy as np\n",
    "import pickle\n",
    "Ts = [10, 50, 100, 500, 1000, 2000]\n",
    "NumArmss = [2, 5, 10, 20, 50, 100]\n",
    "with open(\"data.pkl\", \"rb\") as f:\n",
    "    (ucb_errors, linucb_errors) = pickle.load(f) \n",
    "def plot(errors, title):\n",
    "    plt.clf()\n",
    "    data = []\n",
    "    for T in Ts:\n",
    "        for num_arms in NumArmss:\n",
    "            for ele in errors[T][num_arms]:\n",
    "                data.append((T, num_arms, ele))\n",
    "    x, y, z = zip(*data)\n",
    "    fig = plt.figure()\n",
    "    ax = fig.add_subplot(projection='3d')\n",
    "    ax.set_title(title)\n",
    "    ax.scatter(x,y,z)\n",
    "    ax.set_xlabel(\"T\")\n",
    "    ax.set_ylabel(\"Num Arms\")\n",
    "    ax.set_zlabel(\"MSE\")\n",
    "    plt.savefig(\"linucb.png\")\n",
    "    plt.show()\n"
   ]
  },
  {
   "cell_type": "code",
   "execution_count": 5,
   "id": "cee162c1",
   "metadata": {},
   "outputs": [
    {
     "data": {
      "text/plain": [
       "<Figure size 432x288 with 0 Axes>"
      ]
     },
     "metadata": {},
     "output_type": "display_data"
    },
    {
     "data": {
      "image/png": "[encoded data removed]",
      "text/plain": [
       "<Figure size 432x288 with 1 Axes>"
      ]
     },
     "metadata": {
      "needs_background": "light"
     },
     "output_type": "display_data"
    }
   ],
   "source": [
    "plot(ucb_errors, \"UCB Prediction Error\")"
   ]
  },
  {
   "cell_type": "code",
   "execution_count": 7,
   "id": "55fb2ff1",
   "metadata": {},
   "outputs": [
    {
     "data": {
      "text/plain": [
       "<Figure size 432x288 with 0 Axes>"
      ]
     },
     "metadata": {},
     "output_type": "display_data"
    },
    {
     "data": {
      "image/png": "[encoded data removed]",
      "text/plain": [
       "<Figure size 432x288 with 1 Axes>"
      ]
     },
     "metadata": {
      "needs_background": "light"
     },
     "output_type": "display_data"
    }
   ],
   "source": [
    "plot(linucb_errors, \"LinUCB Prediction Error\")"
   ]
  },
  {
   "cell_type": "code",
   "execution_count": null,
   "id": "3e68b1af",
   "metadata": {},
   "outputs": [],
   "source": [
    "#compare two plots on same intuition\n",
    "#use prof's pannajady's intuition to help linucb estimator"
   ]
  }
 ],
 "metadata": {
  "kernelspec": {
   "display_name": "Python 3 (ipykernel)",
   "language": "python",
   "name": "python3"
  },
  "language_info": {
   "codemirror_mode": {
    "name": "ipython",
    "version": 3
   },
   "file_extension": ".py",
   "mimetype": "text/x-python",
   "name": "python",
   "nbconvert_exporter": "python",
   "pygments_lexer": "ipython3",
   "version": "3.8.11"
  }
 },
 "nbformat": 4,
 "nbformat_minor": 5
}
